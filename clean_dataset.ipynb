{
 "cells": [
  {
   "cell_type": "code",
   "execution_count": 458,
   "id": "0b28d4e1",
   "metadata": {},
   "outputs": [],
   "source": [
    "import polars as pl"
   ]
  },
  {
   "cell_type": "markdown",
   "id": "a154896d",
   "metadata": {},
   "source": [
    "## CLEANING UNESCO DATA "
   ]
  },
  {
   "cell_type": "code",
   "execution_count": 459,
   "id": "8fb1f84f",
   "metadata": {},
   "outputs": [],
   "source": [
    "unesco = pl.read_csv('/Users/jhenifheralmeida/DA BOOTCAMP/FINAL PROJECT/Final_project/unesco_all.csv')"
   ]
  },
  {
   "cell_type": "code",
   "execution_count": 460,
   "id": "0e60965e",
   "metadata": {},
   "outputs": [],
   "source": [
    "unesco_clean = unesco.select([\n",
    "    \"COUNTRY_NAME_EN\", 'YEAR', 'VALUE', 'INDICATOR_LABEL_EN'\n",
    "]).rename({\n",
    "    \"COUNTRY_NAME_EN\": 'country',\n",
    "    'YEAR': 'year',\n",
    "    'VALUE': 'students',\n",
    "    'INDICATOR_LABEL_EN': 'indicator'\n",
    "})"
   ]
  },
  {
   "cell_type": "code",
   "execution_count": 461,
   "id": "0e6f12d8",
   "metadata": {},
   "outputs": [
    {
     "name": "stdout",
     "output_type": "stream",
     "text": [
      "['country_en', 'iso2', 'iso3', 'country_de']\n",
      "shape: (5, 4)\n",
      "┌─────────────────────────────────┬──────┬──────┬─────────────┐\n",
      "│ country_en                      ┆ iso2 ┆ iso3 ┆ country_de  │\n",
      "│ ---                             ┆ ---  ┆ ---  ┆ ---         │\n",
      "│ str                             ┆ str  ┆ str  ┆ str         │\n",
      "╞═════════════════════════════════╪══════╪══════╪═════════════╡\n",
      "│ Argentina                       ┆ AR   ┆ ARG  ┆ Argentinien │\n",
      "│ Bolivia (Plurinational State o… ┆ BO   ┆ BOL  ┆ Bolivien    │\n",
      "│ Brazil                          ┆ BR   ┆ BRA  ┆ Brasilien   │\n",
      "│ Chile                           ┆ CL   ┆ CHL  ┆ Chile       │\n",
      "│ Colombia                        ┆ CO   ┆ COL  ┆ Kolumbien   │\n",
      "└─────────────────────────────────┴──────┴──────┴─────────────┘\n"
     ]
    }
   ],
   "source": [
    "latam = pl.read_csv(\"/Users/jhenifheralmeida/DA BOOTCAMP/FINAL PROJECT/SDG_UNESCO/latam_countries.csv\")\n",
    "print(latam.columns)\n",
    "print(latam.head())\n"
   ]
  },
  {
   "cell_type": "code",
   "execution_count": 462,
   "id": "d90cd7d0",
   "metadata": {},
   "outputs": [],
   "source": [
    "latam = pl.read_csv('/Users/jhenifheralmeida/DA BOOTCAMP/FINAL PROJECT/SDG_UNESCO/latam_countries.csv')\n",
    "unesco_latam = unesco_clean.filter(pl.col('country').is_in(latam['country_en'].to_list()))"
   ]
  },
  {
   "cell_type": "code",
   "execution_count": 463,
   "id": "a58110f8",
   "metadata": {},
   "outputs": [],
   "source": [
    "unesco_latam.write_csv('unesco_clean.csv')"
   ]
  },
  {
   "cell_type": "code",
   "execution_count": 464,
   "id": "4ff72599",
   "metadata": {},
   "outputs": [
    {
     "name": "stdout",
     "output_type": "stream",
     "text": [
      "(1183, 4)\n",
      "shape: (20, 4)\n",
      "┌────────────────┬──────┬──────────┬───────────┐\n",
      "│ country        ┆ year ┆ students ┆ indicator │\n",
      "│ ---            ┆ ---  ┆ ---      ┆ ---       │\n",
      "│ str            ┆ i64  ┆ str      ┆ str       │\n",
      "╞════════════════╪══════╪══════════╪═══════════╡\n",
      "│ Belize         ┆ null ┆ null     ┆ null      │\n",
      "│ Costa Rica     ┆ null ┆ null     ┆ null      │\n",
      "│ El Salvador    ┆ null ┆ null     ┆ null      │\n",
      "│ Guatemala      ┆ null ┆ null     ┆ null      │\n",
      "│ Honduras       ┆ null ┆ null     ┆ null      │\n",
      "│ …              ┆ …    ┆ …        ┆ …         │\n",
      "│ Brazil         ┆ null ┆ null     ┆ null      │\n",
      "│ Cayman Islands ┆ null ┆ null     ┆ null      │\n",
      "│ Chile          ┆ null ┆ null     ┆ null      │\n",
      "│ Colombia       ┆ null ┆ null     ┆ null      │\n",
      "│ Costa Rica     ┆ null ┆ null     ┆ null      │\n",
      "└────────────────┴──────┴──────────┴───────────┘\n"
     ]
    }
   ],
   "source": [
    "print(unesco_latam.shape)\n",
    "print(unesco_latam.head(20))"
   ]
  },
  {
   "cell_type": "markdown",
   "id": "ec0096d7",
   "metadata": {},
   "source": [
    "## CLEANING DESTATIS DATA"
   ]
  },
  {
   "cell_type": "code",
   "execution_count": 465,
   "id": "8a1ab46b",
   "metadata": {},
   "outputs": [
    {
     "name": "stdout",
     "output_type": "stream",
     "text": [
      "(450, 20)\n",
      "shape: (20, 20)\n",
      "┌────────────┬───────────┬──────────┬──────────┬───┬───────────┬───────────┬───────────┬───────────┐\n",
      "│ column_1   ┆ column_2  ┆ column_3 ┆ column_4 ┆ … ┆ column_17 ┆ column_18 ┆ column_19 ┆ column_20 │\n",
      "│ ---        ┆ ---       ┆ ---      ┆ ---      ┆   ┆ ---       ┆ ---       ┆ ---       ┆ ---       │\n",
      "│ str        ┆ str       ┆ str      ┆ str      ┆   ┆ str       ┆ str       ┆ str       ┆ str       │\n",
      "╞════════════╪═══════════╪══════════╪══════════╪═══╪═══════════╪═══════════╪═══════════╪═══════════╡\n",
      "│ Tabelle:   ┆ null      ┆ null     ┆ null     ┆ … ┆ null      ┆ null      ┆ null      ┆ null      │\n",
      "│ 21311-0004 ┆           ┆          ┆          ┆   ┆           ┆           ┆           ┆           │\n",
      "│ ,source_fi ┆           ┆          ┆          ┆   ┆           ┆           ┆           ┆           │\n",
      "│ l…         ┆           ┆          ┆          ┆   ┆           ┆           ┆           ┆           │\n",
      "│ Students:  ┆ null      ┆ null     ┆ null     ┆ … ┆ null      ┆ null      ┆ null      ┆ null      │\n",
      "│ Germany,21 ┆           ┆          ┆          ┆   ┆           ┆           ┆           ┆           │\n",
      "│ 311-0004_e ┆           ┆          ┆          ┆   ┆           ┆           ┆           ┆           │\n",
      "│ …          ┆           ┆          ┆          ┆   ┆           ┆           ┆           ┆           │\n",
      "│ degree     ┆ null      ┆ null     ┆ null     ┆ … ┆ null      ┆ null      ┆ null      ┆ null      │\n",
      "│ studied    ┆           ┆          ┆          ┆   ┆           ┆           ┆           ┆           │\n",
      "│ for        ┆           ┆          ┆          ┆   ┆           ┆           ┆           ┆           │\n",
      "│ Statistics ┆ null      ┆ null     ┆ null     ┆ … ┆ null      ┆ null      ┆ null      ┆ ,21311-00 │\n",
      "│ of         ┆           ┆          ┆          ┆   ┆           ┆           ┆           ┆ 04_en.csv │\n",
      "│ students   ┆           ┆          ┆          ┆   ┆           ┆           ┆           ┆ ,,        │\n",
      "│ Germany    ┆ null      ┆ null     ┆ null     ┆ … ┆ null      ┆ null      ┆ null      ┆ ,21311-00 │\n",
      "│            ┆           ┆          ┆          ┆   ┆           ┆           ┆           ┆ 04_en.csv │\n",
      "│            ┆           ┆          ┆          ┆   ┆           ┆           ┆           ┆ ,,        │\n",
      "│ …          ┆ …         ┆ …        ┆ …        ┆ … ┆ …         ┆ …         ┆ …         ┆ …         │\n",
      "│ null       ┆ Diplom    ┆ 6        ┆ e        ┆ … ┆ 1         ┆ e         ┆ 7         ┆ e,21311-0 │\n",
      "│            ┆ degree I  ┆          ┆          ┆   ┆           ┆           ┆           ┆ 004_en.cs │\n",
      "│            ┆ (universi ┆          ┆          ┆   ┆           ┆           ┆           ┆ v,,       │\n",
      "│            ┆ ty - …    ┆          ┆          ┆   ┆           ┆           ┆           ┆           │\n",
      "│ null       ┆ Diplom    ┆ -        ┆ null     ┆ … ┆ -         ┆ null      ┆ -         ┆ ,21311-00 │\n",
      "│            ┆ degree    ┆          ┆          ┆   ┆           ┆           ┆           ┆ 04_en.csv │\n",
      "│            ┆ (universi ┆          ┆          ┆   ┆           ┆           ┆           ┆ ,,        │\n",
      "│            ┆ ty) - i…  ┆          ┆          ┆   ┆           ┆           ┆           ┆           │\n",
      "│ null       ┆ Diplom    ┆ -        ┆ null     ┆ … ┆ 1         ┆ e         ┆ 1         ┆ e,21311-0 │\n",
      "│            ┆ degree    ┆          ┆          ┆   ┆           ┆           ┆           ┆ 004_en.cs │\n",
      "│            ┆ (universi ┆          ┆          ┆   ┆           ┆           ┆           ┆ v,,       │\n",
      "│            ┆ ty) - t…  ┆          ┆          ┆   ┆           ┆           ┆           ┆           │\n",
      "│ null       ┆ Academica ┆ -        ┆ null     ┆ … ┆ -         ┆ null      ┆ -         ┆ ,21311-00 │\n",
      "│            ┆ lly       ┆          ┆          ┆   ┆           ┆           ┆           ┆ 04_en.csv │\n",
      "│            ┆ certified ┆          ┆          ┆   ┆           ┆           ┆           ┆ ,,        │\n",
      "│            ┆ transla…  ┆          ┆          ┆   ┆           ┆           ┆           ┆           │\n",
      "│ null       ┆ Diplom    ┆ -        ┆ null     ┆ … ┆ -         ┆ null      ┆ -         ┆ ,21311-00 │\n",
      "│            ┆ degree    ┆          ┆          ┆   ┆           ┆           ┆           ┆ 04_en.csv │\n",
      "│            ┆ (universi ┆          ┆          ┆   ┆           ┆           ┆           ┆ ,,        │\n",
      "│            ┆ ty) - t…  ┆          ┆          ┆   ┆           ┆           ┆           ┆           │\n",
      "└────────────┴───────────┴──────────┴──────────┴───┴───────────┴───────────┴───────────┴───────────┘\n"
     ]
    }
   ],
   "source": [
    "destatis_raw = pl.read_csv('/Users/jhenifheralmeida/DA BOOTCAMP/FINAL PROJECT/Final_project/destatis_all.csv',\n",
    "                       separator=';',\n",
    "                       has_header=False,\n",
    "                       truncate_ragged_lines=True,\n",
    "                       ignore_errors=True\n",
    "\n",
    ")\n",
    "\n",
    "print(destatis.shape)\n",
    "print(destatis.head(20))"
   ]
  },
  {
   "cell_type": "code",
   "execution_count": 466,
   "id": "15a8fbfa",
   "metadata": {},
   "outputs": [
    {
     "name": "stdout",
     "output_type": "stream",
     "text": [
      "shape: (20, 20)\n",
      "┌────────────┬───────────┬──────────┬──────────┬───┬───────────┬───────────┬───────────┬───────────┐\n",
      "│ column_1   ┆ column_2  ┆ column_3 ┆ column_4 ┆ … ┆ column_17 ┆ column_18 ┆ column_19 ┆ column_20 │\n",
      "│ ---        ┆ ---       ┆ ---      ┆ ---      ┆   ┆ ---       ┆ ---       ┆ ---       ┆ ---       │\n",
      "│ str        ┆ str       ┆ str      ┆ str      ┆   ┆ str       ┆ str       ┆ str       ┆ str       │\n",
      "╞════════════╪═══════════╪══════════╪══════════╪═══╪═══════════╪═══════════╪═══════════╪═══════════╡\n",
      "│ Tabelle:   ┆ null      ┆ null     ┆ null     ┆ … ┆ null      ┆ null      ┆ null      ┆ null      │\n",
      "│ 21311-0004 ┆           ┆          ┆          ┆   ┆           ┆           ┆           ┆           │\n",
      "│ ,source_fi ┆           ┆          ┆          ┆   ┆           ┆           ┆           ┆           │\n",
      "│ l…         ┆           ┆          ┆          ┆   ┆           ┆           ┆           ┆           │\n",
      "│ Students:  ┆ null      ┆ null     ┆ null     ┆ … ┆ null      ┆ null      ┆ null      ┆ null      │\n",
      "│ Germany,21 ┆           ┆          ┆          ┆   ┆           ┆           ┆           ┆           │\n",
      "│ 311-0004_e ┆           ┆          ┆          ┆   ┆           ┆           ┆           ┆           │\n",
      "│ …          ┆           ┆          ┆          ┆   ┆           ┆           ┆           ┆           │\n",
      "│ degree     ┆ null      ┆ null     ┆ null     ┆ … ┆ null      ┆ null      ┆ null      ┆ null      │\n",
      "│ studied    ┆           ┆          ┆          ┆   ┆           ┆           ┆           ┆           │\n",
      "│ for        ┆           ┆          ┆          ┆   ┆           ┆           ┆           ┆           │\n",
      "│ Statistics ┆ null      ┆ null     ┆ null     ┆ … ┆ null      ┆ null      ┆ null      ┆ ,21311-00 │\n",
      "│ of         ┆           ┆          ┆          ┆   ┆           ┆           ┆           ┆ 04_en.csv │\n",
      "│ students   ┆           ┆          ┆          ┆   ┆           ┆           ┆           ┆ ,,        │\n",
      "│ Germany    ┆ null      ┆ null     ┆ null     ┆ … ┆ null      ┆ null      ┆ null      ┆ ,21311-00 │\n",
      "│            ┆           ┆          ┆          ┆   ┆           ┆           ┆           ┆ 04_en.csv │\n",
      "│            ┆           ┆          ┆          ┆   ┆           ┆           ┆           ┆ ,,        │\n",
      "│ …          ┆ …         ┆ …        ┆ …        ┆ … ┆ …         ┆ …         ┆ …         ┆ …         │\n",
      "│ null       ┆ Diplom    ┆ 6        ┆ e        ┆ … ┆ 1         ┆ e         ┆ 7         ┆ e,21311-0 │\n",
      "│            ┆ degree I  ┆          ┆          ┆   ┆           ┆           ┆           ┆ 004_en.cs │\n",
      "│            ┆ (universi ┆          ┆          ┆   ┆           ┆           ┆           ┆ v,,       │\n",
      "│            ┆ ty - …    ┆          ┆          ┆   ┆           ┆           ┆           ┆           │\n",
      "│ null       ┆ Diplom    ┆ -        ┆ null     ┆ … ┆ -         ┆ null      ┆ -         ┆ ,21311-00 │\n",
      "│            ┆ degree    ┆          ┆          ┆   ┆           ┆           ┆           ┆ 04_en.csv │\n",
      "│            ┆ (universi ┆          ┆          ┆   ┆           ┆           ┆           ┆ ,,        │\n",
      "│            ┆ ty) - i…  ┆          ┆          ┆   ┆           ┆           ┆           ┆           │\n",
      "│ null       ┆ Diplom    ┆ -        ┆ null     ┆ … ┆ 1         ┆ e         ┆ 1         ┆ e,21311-0 │\n",
      "│            ┆ degree    ┆          ┆          ┆   ┆           ┆           ┆           ┆ 004_en.cs │\n",
      "│            ┆ (universi ┆          ┆          ┆   ┆           ┆           ┆           ┆ v,,       │\n",
      "│            ┆ ty) - t…  ┆          ┆          ┆   ┆           ┆           ┆           ┆           │\n",
      "│ null       ┆ Academica ┆ -        ┆ null     ┆ … ┆ -         ┆ null      ┆ -         ┆ ,21311-00 │\n",
      "│            ┆ lly       ┆          ┆          ┆   ┆           ┆           ┆           ┆ 04_en.csv │\n",
      "│            ┆ certified ┆          ┆          ┆   ┆           ┆           ┆           ┆ ,,        │\n",
      "│            ┆ transla…  ┆          ┆          ┆   ┆           ┆           ┆           ┆           │\n",
      "│ null       ┆ Diplom    ┆ -        ┆ null     ┆ … ┆ -         ┆ null      ┆ -         ┆ ,21311-00 │\n",
      "│            ┆ degree    ┆          ┆          ┆   ┆           ┆           ┆           ┆ 04_en.csv │\n",
      "│            ┆ (universi ┆          ┆          ┆   ┆           ┆           ┆           ┆ ,,        │\n",
      "│            ┆ ty) - t…  ┆          ┆          ┆   ┆           ┆           ┆           ┆           │\n",
      "└────────────┴───────────┴──────────┴──────────┴───┴───────────┴───────────┴───────────┴───────────┘\n"
     ]
    }
   ],
   "source": [
    "# Find rows where at least one column looks numeric\n",
    "numeric_rows = destatis_raw.filter(\n",
    "    pl.any_horizontal([pl.col(c).str.contains(r\"\\d\") for c in destatis_raw.columns])\n",
    ")\n",
    "\n",
    "print(numeric_rows.head(20))\n"
   ]
  },
  {
   "cell_type": "code",
   "execution_count": 467,
   "id": "eeb240b7",
   "metadata": {},
   "outputs": [
    {
     "name": "stdout",
     "output_type": "stream",
     "text": [
      "First numeric row index: 0\n"
     ]
    }
   ],
   "source": [
    "# Find the first row with at least 3 numeric-looking entries\n",
    "mask = destatis_raw.select([\n",
    "    pl.any_horizontal([pl.col(c).str.contains(r\"\\d\") for c in destatis_raw.columns])\n",
    "])\n",
    "\n",
    "first_numeric_idx = mask.to_series().to_list().index(True)\n",
    "print(\"First numeric row index:\", first_numeric_idx)\n"
   ]
  },
  {
   "cell_type": "code",
   "execution_count": 468,
   "id": "e2e45810",
   "metadata": {},
   "outputs": [
    {
     "name": "stdout",
     "output_type": "stream",
     "text": [
      "shape: (40, 20)\n",
      "┌────────────┬───────────┬──────────┬──────────┬───┬───────────┬───────────┬───────────┬───────────┐\n",
      "│ column_1   ┆ column_2  ┆ column_3 ┆ column_4 ┆ … ┆ column_17 ┆ column_18 ┆ column_19 ┆ column_20 │\n",
      "│ ---        ┆ ---       ┆ ---      ┆ ---      ┆   ┆ ---       ┆ ---       ┆ ---       ┆ ---       │\n",
      "│ str        ┆ str       ┆ str      ┆ str      ┆   ┆ str       ┆ str       ┆ str       ┆ str       │\n",
      "╞════════════╪═══════════╪══════════╪══════════╪═══╪═══════════╪═══════════╪═══════════╪═══════════╡\n",
      "│ Tabelle:   ┆ null      ┆ null     ┆ null     ┆ … ┆ null      ┆ null      ┆ null      ┆ null      │\n",
      "│ 21311-0004 ┆           ┆          ┆          ┆   ┆           ┆           ┆           ┆           │\n",
      "│ ,source_fi ┆           ┆          ┆          ┆   ┆           ┆           ┆           ┆           │\n",
      "│ l…         ┆           ┆          ┆          ┆   ┆           ┆           ┆           ┆           │\n",
      "│ Students:  ┆ null      ┆ null     ┆ null     ┆ … ┆ null      ┆ null      ┆ null      ┆ null      │\n",
      "│ Germany,21 ┆           ┆          ┆          ┆   ┆           ┆           ┆           ┆           │\n",
      "│ 311-0004_e ┆           ┆          ┆          ┆   ┆           ┆           ┆           ┆           │\n",
      "│ …          ┆           ┆          ┆          ┆   ┆           ┆           ┆           ┆           │\n",
      "│ degree     ┆ null      ┆ null     ┆ null     ┆ … ┆ null      ┆ null      ┆ null      ┆ null      │\n",
      "│ studied    ┆           ┆          ┆          ┆   ┆           ┆           ┆           ┆           │\n",
      "│ for        ┆           ┆          ┆          ┆   ┆           ┆           ┆           ┆           │\n",
      "│ Statistics ┆ null      ┆ null     ┆ null     ┆ … ┆ null      ┆ null      ┆ null      ┆ ,21311-00 │\n",
      "│ of         ┆           ┆          ┆          ┆   ┆           ┆           ┆           ┆ 04_en.csv │\n",
      "│ students   ┆           ┆          ┆          ┆   ┆           ┆           ┆           ┆ ,,        │\n",
      "│ Germany    ┆ null      ┆ null     ┆ null     ┆ … ┆ null      ┆ null      ┆ null      ┆ ,21311-00 │\n",
      "│            ┆           ┆          ┆          ┆   ┆           ┆           ┆           ┆ 04_en.csv │\n",
      "│            ┆           ┆          ┆          ┆   ┆           ┆           ┆           ┆ ,,        │\n",
      "│ …          ┆ …         ┆ …        ┆ …        ┆ … ┆ …         ┆ …         ┆ …         ┆ …         │\n",
      "│ null       ┆ TQ Bachel ┆ 303      ┆ e        ┆ … ┆ 1320      ┆ e         ┆ 1629      ┆ e,21311-0 │\n",
      "│            ┆ or's for  ┆          ┆          ┆   ┆           ┆           ┆           ┆ 004_en.cs │\n",
      "│            ┆ primary   ┆          ┆          ┆   ┆           ┆           ┆           ┆ v,,       │\n",
      "│            ┆ educ…     ┆          ┆          ┆   ┆           ┆           ┆           ┆           │\n",
      "│ null       ┆ TQ Master ┆ null     ┆ null     ┆ … ┆ null      ┆ null      ┆ null      ┆ null      │\n",
      "│            ┆ 's,21311- ┆          ┆          ┆   ┆           ┆           ┆           ┆           │\n",
      "│            ┆ 0004_en.c ┆          ┆          ┆   ┆           ┆           ┆           ┆           │\n",
      "│            ┆ sv,…      ┆          ┆          ┆   ┆           ┆           ┆           ┆           │\n",
      "│ null       ┆ TQ for    ┆ 1        ┆ e        ┆ … ┆ 1         ┆ e         ┆ 2         ┆ e,21311-0 │\n",
      "│            ┆ lower     ┆          ┆          ┆   ┆           ┆           ┆           ┆ 004_en.cs │\n",
      "│            ┆ secondary ┆          ┆          ┆   ┆           ┆           ┆           ┆ v,,       │\n",
      "│            ┆ educati…  ┆          ┆          ┆   ┆           ┆           ┆           ┆           │\n",
      "│ null       ┆ TQ Bachel ┆ null     ┆ null     ┆ … ┆ null      ┆ null      ┆ null      ┆ null      │\n",
      "│            ┆ or's,2131 ┆          ┆          ┆   ┆           ┆           ┆           ┆           │\n",
      "│            ┆ 1-0004_en ┆          ┆          ┆   ┆           ┆           ┆           ┆           │\n",
      "│            ┆ .cs…      ┆          ┆          ┆   ┆           ┆           ┆           ┆           │\n",
      "│ null       ┆ TQ Master ┆ null     ┆ null     ┆ … ┆ null      ┆ null      ┆ null      ┆ null      │\n",
      "│            ┆ 's,21311- ┆          ┆          ┆   ┆           ┆           ┆           ┆           │\n",
      "│            ┆ 0004_en.c ┆          ┆          ┆   ┆           ┆           ┆           ┆           │\n",
      "│            ┆ sv,…      ┆          ┆          ┆   ┆           ┆           ┆           ┆           │\n",
      "└────────────┴───────────┴──────────┴──────────┴───┴───────────┴───────────┴───────────┴───────────┘\n"
     ]
    }
   ],
   "source": [
    "print(destatis_raw.slice(0, 40))  "
   ]
  },
  {
   "cell_type": "code",
   "execution_count": 469,
   "id": "f43a7ccd",
   "metadata": {},
   "outputs": [
    {
     "name": "stdout",
     "output_type": "stream",
     "text": [
      "(450, 20)\n"
     ]
    }
   ],
   "source": [
    "print(destatis_raw.shape)\n"
   ]
  },
  {
   "cell_type": "code",
   "execution_count": 470,
   "id": "153363bf",
   "metadata": {},
   "outputs": [
    {
     "name": "stdout",
     "output_type": "stream",
     "text": [
      "shape: (20, 20)\n",
      "┌────────────┬───────────┬──────────┬──────────┬───┬───────────┬───────────┬───────────┬───────────┐\n",
      "│ column_1   ┆ column_2  ┆ column_3 ┆ column_4 ┆ … ┆ column_17 ┆ column_18 ┆ column_19 ┆ column_20 │\n",
      "│ ---        ┆ ---       ┆ ---      ┆ ---      ┆   ┆ ---       ┆ ---       ┆ ---       ┆ ---       │\n",
      "│ str        ┆ str       ┆ str      ┆ str      ┆   ┆ str       ┆ str       ┆ str       ┆ str       │\n",
      "╞════════════╪═══════════╪══════════╪══════════╪═══╪═══════════╪═══════════╪═══════════╪═══════════╡\n",
      "│ null       ┆ Master's  ┆ -        ┆ null     ┆ … ┆ -         ┆ null      ┆ -         ┆ ,21311-00 │\n",
      "│            ┆ univ.appl ┆          ┆          ┆   ┆           ┆           ┆           ┆ 04_en.csv │\n",
      "│            ┆ .sc.(fin. ┆          ┆          ┆   ┆           ┆           ┆           ┆ ,,        │\n",
      "│            ┆ ex.…      ┆          ┆          ┆   ┆           ┆           ┆           ┆           │\n",
      "│ null       ┆ Master's  ┆ 73619    ┆ e        ┆ … ┆ 91522     ┆ e         ┆ 200517    ┆ e,21311-0 │\n",
      "│            ┆ (univ.of  ┆          ┆          ┆   ┆           ┆           ┆           ┆ 004_en.cs │\n",
      "│            ┆ appl.sc.) ┆          ┆          ┆   ┆           ┆           ┆           ┆ v,,       │\n",
      "│            ┆ (fi…      ┆          ┆          ┆   ┆           ┆           ┆           ┆           │\n",
      "│ null       ┆ Master's  ┆ 48       ┆ e        ┆ … ┆ 41        ┆ e         ┆ 89        ┆ e,21311-0 │\n",
      "│            ┆ (universi ┆          ┆          ┆   ┆           ┆           ┆           ┆ 004_en.cs │\n",
      "│            ┆ ty) -     ┆          ┆          ┆   ┆           ┆           ┆           ┆ v,,       │\n",
      "│            ┆ teache…   ┆          ┆          ┆   ┆           ┆           ┆           ┆           │\n",
      "│ null       ┆ Final cer ┆ 2322     ┆ e        ┆ … ┆ 3921      ┆ e         ┆ 6792      ┆ e,21311-0 │\n",
      "│            ┆ tificate  ┆          ┆          ┆   ┆           ┆           ┆           ┆ 004_en.cs │\n",
      "│            ┆           ┆          ┆          ┆   ┆           ┆           ┆           ┆ v,,       │\n",
      "│ null       ┆ Other     ┆ 105      ┆ e        ┆ … ┆ 305       ┆ e         ┆ 485       ┆ e,21311-0 │\n",
      "│            ┆ degree    ┆          ┆          ┆   ┆           ┆           ┆           ┆ 004_en.cs │\n",
      "│            ┆ earned in ┆          ┆          ┆   ┆           ┆           ┆           ┆ v,,       │\n",
      "│            ┆ Germany   ┆          ┆          ┆   ┆           ┆           ┆           ┆           │\n",
      "│ …          ┆ …         ┆ …        ┆ …        ┆ … ┆ …         ┆ …         ┆ …         ┆ …         │\n",
      "│ ,21311-000 ┆ null      ┆ null     ┆ null     ┆ … ┆ null      ┆ null      ┆ ,         ┆ null      │\n",
      "│ 1_en.csv,S ┆           ┆          ┆          ┆   ┆           ┆           ┆           ┆           │\n",
      "│ tudents    ┆           ┆          ┆          ┆   ┆           ┆           ┆           ┆           │\n",
      "│ (n…        ┆           ┆          ┆          ┆   ┆           ┆           ┆           ┆           │\n",
      "│ ,21311-000 ┆ Germans   ┆ null     ┆ null     ┆ … ┆ null      ┆ null      ┆ ,         ┆ null      │\n",
      "│ 1_en.csv,  ┆           ┆          ┆          ┆   ┆           ┆           ┆           ┆           │\n",
      "│ ,21311-000 ┆ Male      ┆ null     ┆ Female   ┆ … ┆ null      ┆ Total     ┆ ,         ┆ null      │\n",
      "│ 1_en.csv,  ┆           ┆          ┆          ┆   ┆           ┆           ┆           ┆           │\n",
      "│ ,21311-000 ┆ 907403    ┆ e        ┆ 727254   ┆ … ┆ e         ┆ 1800651   ┆ e,        ┆ null      │\n",
      "│ 1_en.csv,W ┆           ┆          ┆          ┆   ┆           ┆           ┆           ┆           │\n",
      "│ T 1998/99  ┆           ┆          ┆          ┆   ┆           ┆           ┆           ┆           │\n",
      "│ ,21311-000 ┆ 872178    ┆ e        ┆ 723246   ┆ … ┆ e         ┆ 1770489   ┆ e,        ┆ null      │\n",
      "│ 1_en.csv,W ┆           ┆          ┆          ┆   ┆           ┆           ┆           ┆           │\n",
      "│ T 1999/00  ┆           ┆          ┆          ┆   ┆           ┆           ┆           ┆           │\n",
      "└────────────┴───────────┴──────────┴──────────┴───┴───────────┴───────────┴───────────┴───────────┘\n"
     ]
    }
   ],
   "source": [
    "print(destatis_raw.slice(100, 20))   # rows 100 to 119\n"
   ]
  },
  {
   "cell_type": "code",
   "execution_count": 471,
   "id": "4c62235b",
   "metadata": {},
   "outputs": [
    {
     "name": "stdout",
     "output_type": "stream",
     "text": [
      "shape: (20, 20)\n",
      "┌────────────┬──────────┬───────────┬──────────┬───┬───────────┬───────────┬───────────┬───────────┐\n",
      "│ column_1   ┆ column_2 ┆ column_3  ┆ column_4 ┆ … ┆ column_17 ┆ column_18 ┆ column_19 ┆ column_20 │\n",
      "│ ---        ┆ ---      ┆ ---       ┆ ---      ┆   ┆ ---       ┆ ---       ┆ ---       ┆ ---       │\n",
      "│ str        ┆ str      ┆ str       ┆ str      ┆   ┆ str       ┆ str       ┆ str       ┆ str       │\n",
      "╞════════════╪══════════╪═══════════╪══════════╪═══╪═══════════╪═══════════╪═══════════╪═══════════╡\n",
      "│ ,21311-000 ┆ SF042    ┆ Business  ┆ 7946     ┆ … ┆ e         ┆ 13570     ┆ e         ┆ 22183     │\n",
      "│ 3_en.csv,, ┆          ┆ Law       ┆          ┆   ┆           ┆           ┆           ┆           │\n",
      "│ ,21311-000 ┆ SF276    ┆ Business  ┆ 2499     ┆ … ┆ e         ┆ 2036      ┆ e         ┆ 5158      │\n",
      "│ 3_en.csv,, ┆          ┆ Mathemati ┆          ┆   ┆           ┆           ┆           ┆           │\n",
      "│            ┆          ┆ cs        ┆          ┆   ┆           ┆           ┆           ┆           │\n",
      "│ ,21311-000 ┆ SF031    ┆ Byzantine ┆ 2        ┆ … ┆ e         ┆ 20        ┆ e         ┆ 39        │\n",
      "│ 3_en.csv,, ┆          ┆ Studies   ┆          ┆   ┆           ┆           ┆           ┆           │\n",
      "│ ,21311-000 ┆ SF162    ┆ Caritas   ┆ 25       ┆ … ┆ e         ┆ 52        ┆ e         ┆ 88        │\n",
      "│ 3_en.csv,, ┆          ┆ Science   ┆          ┆   ┆           ┆           ┆           ┆           │\n",
      "│ ,21311-000 ┆ SF280    ┆ Cartograp ┆ 83       ┆ … ┆ e         ┆ 164       ┆ e         ┆ 300       │\n",
      "│ 3_en.csv,, ┆          ┆ hy        ┆          ┆   ┆           ┆           ┆           ┆           │\n",
      "│ …          ┆ …        ┆ …         ┆ …        ┆ … ┆ …         ┆ …         ┆ …         ┆ …         │\n",
      "│ ,21311-000 ┆ SF222    ┆ Communica ┆ null     ┆ … ┆ null      ┆ null      ┆ null      ┆ null      │\n",
      "│ 3_en.csv,, ┆          ┆ tion Tech ┆          ┆   ┆           ┆           ┆           ┆           │\n",
      "│            ┆          ┆ nology    ┆          ┆   ┆           ┆           ┆           ┆           │\n",
      "│ ,21311-000 ┆ SF191    ┆ Compositi ┆ 127      ┆ … ┆ e         ┆ 165       ┆ e         ┆ 454       │\n",
      "│ 3_en.csv,, ┆          ┆ on        ┆          ┆   ┆           ┆           ┆           ┆           │\n",
      "│ ,21311-000 ┆ SF123    ┆ Computati ┆ 8669     ┆ … ┆ e         ┆ 2860      ┆ e         ┆ 15857     │\n",
      "│ 3_en.csv,, ┆          ┆ onal Engi ┆          ┆   ┆           ┆           ┆           ┆           │\n",
      "│            ┆          ┆ neer./Tec ┆          ┆   ┆           ┆           ┆           ┆           │\n",
      "│            ┆          ┆ hni…      ┆          ┆   ┆           ┆           ┆           ┆           │\n",
      "│ ,21311-000 ┆ SF200    ┆ Computer  ┆ 3198     ┆ … ┆ e         ┆ 2963      ┆ e         ┆ 7349      │\n",
      "│ 3_en.csv,, ┆          ┆ and Commu ┆          ┆   ┆           ┆           ┆           ┆           │\n",
      "│            ┆          ┆ nication  ┆          ┆   ┆           ┆           ┆           ┆           │\n",
      "│            ┆          ┆ Tec…      ┆          ┆   ┆           ┆           ┆           ┆           │\n",
      "│ ,21311-000 ┆ SF160    ┆ Computer  ┆ 631      ┆ … ┆ e         ┆ 1359      ┆ e         ┆ 2677      │\n",
      "│ 3_en.csv,, ┆          ┆ Linguisti ┆          ┆   ┆           ┆           ┆           ┆           │\n",
      "│            ┆          ┆ cs        ┆          ┆   ┆           ┆           ┆           ┆           │\n",
      "└────────────┴──────────┴───────────┴──────────┴───┴───────────┴───────────┴───────────┴───────────┘\n"
     ]
    }
   ],
   "source": [
    "print(destatis_raw.slice(200, 20))\n"
   ]
  },
  {
   "cell_type": "code",
   "execution_count": 472,
   "id": "9db25e1d",
   "metadata": {},
   "outputs": [
    {
     "name": "stdout",
     "output_type": "stream",
     "text": [
      "Shape: (111, 1)\n",
      "Columns: ['Tabelle: 21311-0004']\n",
      "shape: (45, 1)\n",
      "┌─────────────────────────────────┐\n",
      "│ Tabelle: 21311-0004             │\n",
      "│ ---                             │\n",
      "│ str                             │\n",
      "╞═════════════════════════════════╡\n",
      "│ Students: Germany, semester, n… │\n",
      "│ degree studied for              │\n",
      "│ Statistics of students          │\n",
      "│ Germany                         │\n",
      "│ Students (number)               │\n",
      "│ …                               │\n",
      "│ null                            │\n",
      "│ null                            │\n",
      "│ null                            │\n",
      "│ null                            │\n",
      "│ null                            │\n",
      "└─────────────────────────────────┘\n"
     ]
    }
   ],
   "source": [
    "import polars as pl\n",
    "\n",
    "df_0004 = pl.read_csv(\n",
    "    \"/Users/jhenifheralmeida/DA BOOTCAMP/FINAL PROJECT/DESTATIS/21311-0004_en.csv\",\n",
    "    separator=\";\",\n",
    "    has_header=True,\n",
    "    truncate_ragged_lines=True\n",
    ")\n",
    "\n",
    "print(\"Shape:\", df_0004.shape)\n",
    "print(\"Columns:\", df_0004.columns)\n",
    "print(df_0004.head(45))\n"
   ]
  },
  {
   "cell_type": "code",
   "execution_count": 473,
   "id": "eab1d22a",
   "metadata": {},
   "outputs": [
    {
     "name": "stdout",
     "output_type": "stream",
     "text": [
      "['Tabelle: 21311-0001']\n",
      "shape: (10, 1)\n",
      "┌─────────────────────────────────┐\n",
      "│ Tabelle: 21311-0001             │\n",
      "│ ---                             │\n",
      "│ str                             │\n",
      "╞═════════════════════════════════╡\n",
      "│ Students: Germany, semester, n… │\n",
      "│ Statistics of students          │\n",
      "│ Germany                         │\n",
      "│ Students (number)               │\n",
      "│ null                            │\n",
      "│ null                            │\n",
      "│ WT 1998/99                      │\n",
      "│ WT 1999/00                      │\n",
      "│ WT 2000/01                      │\n",
      "│ WT 2001/02                      │\n",
      "└─────────────────────────────────┘\n"
     ]
    }
   ],
   "source": [
    "df_0001 = pl.read_csv('/Users/jhenifheralmeida/DA BOOTCAMP/FINAL PROJECT/DESTATIS/21311-0001_en.csv',\n",
    "                      separator=';',\n",
    "                      has_header=True,\n",
    "                      truncate_ragged_lines=True\n",
    ")\n",
    "\n",
    "print(df_0001.columns)\n",
    "print(df_0001.head(10))"
   ]
  },
  {
   "cell_type": "code",
   "execution_count": 474,
   "id": "326401dc",
   "metadata": {},
   "outputs": [
    {
     "name": "stdout",
     "output_type": "stream",
     "text": [
      "Shape: (28, 1)\n",
      "Columns: ['YEAR,Germans,,,,,,Foreigners,,,,,,Total,,,,,']\n",
      "shape: (10, 1)\n",
      "┌─────────────────────────────────┐\n",
      "│ YEAR,Germans,,,,,,Foreigners,,… │\n",
      "│ ---                             │\n",
      "│ str                             │\n",
      "╞═════════════════════════════════╡\n",
      "│ ,Male,,Female,,Total,,Male,,Fe… │\n",
      "│ WT 1998/99,907403,e,727254,e,1… │\n",
      "│ WT 1999/00,872178,e,723246,e,1… │\n",
      "│ WT 2000/01,870016,e,741820,e,1… │\n",
      "│ WT 2001/02,887462,e,774628,e,1… │\n",
      "│ WT 2002/03,903218,e,808567,e,1… │\n",
      "│ WT 2003/04,935718,e,837611,e,1… │\n",
      "│ WT 2004/05,901979,e,814795,e,1… │\n",
      "│ WT 2005/06,912696,e,824712,e,1… │\n",
      "│ WT 2006/07,909740,e,822934,e,1… │\n",
      "└─────────────────────────────────┘\n"
     ]
    }
   ],
   "source": [
    "df_0001 = pl.read_csv(\n",
    "    \"/Users/jhenifheralmeida/DA BOOTCAMP/FINAL PROJECT/DESTATIS/0001.csv\",\n",
    "    separator=\";\",   \n",
    "    has_header=True,\n",
    "    ignore_errors=True\n",
    "    \n",
    ")\n",
    "\n",
    "print(\"Shape:\", df_0001.shape)\n",
    "print(\"Columns:\", df_0001.columns)\n",
    "print(df_0001.head(10))\n"
   ]
  },
  {
   "cell_type": "code",
   "execution_count": 475,
   "id": "0cb75e75",
   "metadata": {},
   "outputs": [
    {
     "name": "stdout",
     "output_type": "stream",
     "text": [
      "shape: (5, 1)\n",
      "┌────────────────┐\n",
      "│ column_1       │\n",
      "│ ---            │\n",
      "│ list[str]      │\n",
      "╞════════════════╡\n",
      "│ [\"YEAR\"]       │\n",
      "│ null           │\n",
      "│ [\"WT 1998/99\"] │\n",
      "│ [\"WT 1999/00\"] │\n",
      "│ [\"WT 2000/01\"] │\n",
      "└────────────────┘\n"
     ]
    }
   ],
   "source": [
    "df_raw = pl.read_csv(\n",
    "    \"/Users/jhenifheralmeida/DA BOOTCAMP/FINAL PROJECT/DESTATIS/0001.csv\",\n",
    "    has_header=False\n",
    ")\n",
    "\n",
    "df_split = df_raw.select(\n",
    "    pl.col(\"column_1\").str.split(\",\")\n",
    ")\n",
    "\n",
    "print(df_split.head(5))\n"
   ]
  },
  {
   "cell_type": "code",
   "execution_count": 476,
   "id": "9f2153a7",
   "metadata": {},
   "outputs": [
    {
     "name": "stdout",
     "output_type": "stream",
     "text": [
      "(29, 19)\n",
      "shape: (5, 19)\n",
      "┌────────────┬──────────┬──────────┬──────────┬───┬───────────┬───────────┬───────────┬───────────┐\n",
      "│ column_1   ┆ column_2 ┆ column_3 ┆ column_4 ┆ … ┆ column_16 ┆ column_17 ┆ column_18 ┆ column_19 │\n",
      "│ ---        ┆ ---      ┆ ---      ┆ ---      ┆   ┆ ---       ┆ ---       ┆ ---       ┆ ---       │\n",
      "│ str        ┆ str      ┆ str      ┆ str      ┆   ┆ str       ┆ str       ┆ str       ┆ str       │\n",
      "╞════════════╪══════════╪══════════╪══════════╪═══╪═══════════╪═══════════╪═══════════╪═══════════╡\n",
      "│ YEAR       ┆ Germans  ┆ null     ┆ null     ┆ … ┆ null      ┆ null      ┆ null      ┆ null      │\n",
      "│ null       ┆ Male     ┆ null     ┆ Female   ┆ … ┆ Female    ┆ null      ┆ Total     ┆ null      │\n",
      "│ WT 1998/99 ┆ 907403   ┆ e        ┆ 727254   ┆ … ┆ 800927    ┆ e         ┆ 1800651   ┆ e         │\n",
      "│ WT 1999/00 ┆ 872178   ┆ e        ┆ 723246   ┆ … ┆ 802851    ┆ e         ┆ 1770489   ┆ e         │\n",
      "│ WT 2000/01 ┆ 870016   ┆ e        ┆ 741820   ┆ … ┆ 828941    ┆ e         ┆ 1798863   ┆ e         │\n",
      "└────────────┴──────────┴──────────┴──────────┴───┴───────────┴───────────┴───────────┴───────────┘\n"
     ]
    }
   ],
   "source": [
    "import polars as pl\n",
    "\n",
    "# Load raw as no-header CSV\n",
    "df_raw = pl.read_csv(\n",
    "    \"/Users/jhenifheralmeida/DA BOOTCAMP/FINAL PROJECT/DESTATIS/0001.csv\",\n",
    "    separator=\",\",      # force comma-split\n",
    "    has_header=False,\n",
    "    ignore_errors=True\n",
    ")\n",
    "\n",
    "print(df_raw.shape)\n",
    "print(df_raw.head(5))\n"
   ]
  },
  {
   "cell_type": "code",
   "execution_count": 477,
   "id": "78dac408",
   "metadata": {},
   "outputs": [],
   "source": [
    "header1 = df_raw.row(0)  \n",
    "header2 = df_raw.row(1)  \n"
   ]
  },
  {
   "cell_type": "code",
   "execution_count": 478,
   "id": "ecfc7e21",
   "metadata": {},
   "outputs": [
    {
     "name": "stdout",
     "output_type": "stream",
     "text": [
      "New header: ['YEAR', 'Germans_Male', 'Unknown_1', 'Female_2', 'Unknown_3', 'Total_4', 'Unknown_5', 'Foreigners_Male', 'Unknown_6', 'Female_7', 'Unknown_8', 'Total_9', 'Unknown_10', 'Total_Male', 'Unknown_11', 'Female_12', 'Unknown_13', 'Total_14', 'Unknown_15']\n",
      "['YEAR', 'Germans_Male', 'Unknown_1', 'Female_2', 'Unknown_3', 'Total_4', 'Unknown_5', 'Foreigners_Male', 'Unknown_6', 'Female_7', 'Unknown_8', 'Total_9', 'Unknown_10', 'Total_Male', 'Unknown_11', 'Female_12', 'Unknown_13', 'Total_14', 'Unknown_15']\n",
      "shape: (5, 19)\n",
      "┌────────────┬───────────┬───────────┬──────────┬───┬───────────┬───────────┬──────────┬───────────┐\n",
      "│ YEAR       ┆ Germans_M ┆ Unknown_1 ┆ Female_2 ┆ … ┆ Female_12 ┆ Unknown_1 ┆ Total_14 ┆ Unknown_1 │\n",
      "│ ---        ┆ ale       ┆ ---       ┆ ---      ┆   ┆ ---       ┆ 3         ┆ ---      ┆ 5         │\n",
      "│ str        ┆ ---       ┆ str       ┆ str      ┆   ┆ str       ┆ ---       ┆ str      ┆ ---       │\n",
      "│            ┆ str       ┆           ┆          ┆   ┆           ┆ str       ┆          ┆ str       │\n",
      "╞════════════╪═══════════╪═══════════╪══════════╪═══╪═══════════╪═══════════╪══════════╪═══════════╡\n",
      "│ WT 1998/99 ┆ 907403    ┆ e         ┆ 727254   ┆ … ┆ 800927    ┆ e         ┆ 1800651  ┆ e         │\n",
      "│ WT 1999/00 ┆ 872178    ┆ e         ┆ 723246   ┆ … ┆ 802851    ┆ e         ┆ 1770489  ┆ e         │\n",
      "│ WT 2000/01 ┆ 870016    ┆ e         ┆ 741820   ┆ … ┆ 828941    ┆ e         ┆ 1798863  ┆ e         │\n",
      "│ WT 2001/02 ┆ 887462    ┆ e         ┆ 774628   ┆ … ┆ 873038    ┆ e         ┆ 1868331  ┆ e         │\n",
      "│ WT 2002/03 ┆ 903218    ┆ e         ┆ 808567   ┆ … ┆ 918388    ┆ e         ┆ 1938811  ┆ e         │\n",
      "└────────────┴───────────┴───────────┴──────────┴───┴───────────┴───────────┴──────────┴───────────┘\n"
     ]
    }
   ],
   "source": [
    "# 3. Build unique column names\n",
    "new_header = []\n",
    "counter = 1\n",
    "for h1, h2 in zip(header1, header2):\n",
    "    if h1 and h2:  \n",
    "        # both exist → combine like \"Foreigners_Female\"\n",
    "        new_header.append(f\"{h1}_{h2}\")\n",
    "    elif h1:  \n",
    "        # only top-level group exists\n",
    "        new_header.append(h1)\n",
    "    elif h2:  \n",
    "        # only sub-header exists (like \"Male\") → give it a group prefix\n",
    "        new_header.append(f\"{h2}_{counter}\")\n",
    "        counter += 1\n",
    "    else:\n",
    "        # if nothing there → placeholder\n",
    "        new_header.append(f\"Unknown_{counter}\")\n",
    "        counter += 1\n",
    "\n",
    "print(\"New header:\", new_header)\n",
    "\n",
    "# 4. Drop the first two rows, apply new header\n",
    "df = df_raw.slice(2, None)\n",
    "df = df.rename(dict(zip(df.columns, new_header)))\n",
    "\n",
    "print(df.columns)\n",
    "print(df.head(5))\n"
   ]
  },
  {
   "cell_type": "code",
   "execution_count": 479,
   "id": "afebb355",
   "metadata": {},
   "outputs": [
    {
     "name": "stdout",
     "output_type": "stream",
     "text": [
      "['YEAR', 'Germans_Male', 'Female_2', 'Total_4', 'Foreigners_Male', 'Female_7', 'Total_9', 'Total_Male', 'Female_12', 'Total_14']\n"
     ]
    }
   ],
   "source": [
    "df_clean = df.drop([c for c in df.columns if c.startswith(\"Unknown\")])\n",
    "print(df_clean.columns)\n"
   ]
  },
  {
   "cell_type": "code",
   "execution_count": 480,
   "id": "5f89b869",
   "metadata": {},
   "outputs": [],
   "source": [
    "df_clean = df_clean.rename({\n",
    "    \"YEAR\": \"year\",\n",
    "    \"Germans_Male\": \"germans_male\",\n",
    "    \"Female_2\": \"germans_female\",\n",
    "    \"Total_4\": \"germans_total\",\n",
    "    \"Foreigners_Male\": \"foreigners_male\",\n",
    "    \"Female_7\": \"foreigners_female\",\n",
    "    \"Total_9\": \"foreigners_total\",\n",
    "    \"Total_Male\": \"total_male\",\n",
    "    \"Female_12\": \"total_female\",\n",
    "    \"Total_14\": \"total_total\"\n",
    "})\n"
   ]
  },
  {
   "cell_type": "code",
   "execution_count": 481,
   "id": "6222b154",
   "metadata": {},
   "outputs": [],
   "source": [
    "df_clean = df_clean.with_columns([\n",
    "    pl.col(c).cast(pl.Int64, strict=False)\n",
    "    for c in df_clean.columns if c != 'year'\n",
    "])"
   ]
  },
  {
   "cell_type": "code",
   "execution_count": 482,
   "id": "62f5f3c0",
   "metadata": {},
   "outputs": [
    {
     "name": "stdout",
     "output_type": "stream",
     "text": [
      "shape: (5, 10)\n",
      "┌───────────┬───────────┬───────────┬───────────┬───┬───────────┬───────────┬───────────┬──────────┐\n",
      "│ year      ┆ germans_m ┆ germans_f ┆ germans_t ┆ … ┆ foreigner ┆ total_mal ┆ total_fem ┆ total_to │\n",
      "│ ---       ┆ ale       ┆ emale     ┆ otal      ┆   ┆ s_total   ┆ e         ┆ ale       ┆ tal      │\n",
      "│ str       ┆ ---       ┆ ---       ┆ ---       ┆   ┆ ---       ┆ ---       ┆ ---       ┆ ---      │\n",
      "│           ┆ i64       ┆ i64       ┆ i64       ┆   ┆ i64       ┆ i64       ┆ i64       ┆ i64      │\n",
      "╞═══════════╪═══════════╪═══════════╪═══════════╪═══╪═══════════╪═══════════╪═══════════╪══════════╡\n",
      "│ WT        ┆ 907403    ┆ 727254    ┆ 1634657   ┆ … ┆ 165994    ┆ 999724    ┆ 800927    ┆ 1800651  │\n",
      "│ 1998/99   ┆           ┆           ┆           ┆   ┆           ┆           ┆           ┆          │\n",
      "│ WT        ┆ 872178    ┆ 723246    ┆ 1595424   ┆ … ┆ 175065    ┆ 967638    ┆ 802851    ┆ 1770489  │\n",
      "│ 1999/00   ┆           ┆           ┆           ┆   ┆           ┆           ┆           ┆          │\n",
      "│ WT        ┆ 870016    ┆ 741820    ┆ 1611836   ┆ … ┆ 187027    ┆ 969922    ┆ 828941    ┆ 1798863  │\n",
      "│ 2000/01   ┆           ┆           ┆           ┆   ┆           ┆           ┆           ┆          │\n",
      "│ WT        ┆ 887462    ┆ 774628    ┆ 1662090   ┆ … ┆ 206241    ┆ 995293    ┆ 873038    ┆ 1868331  │\n",
      "│ 2001/02   ┆           ┆           ┆           ┆   ┆           ┆           ┆           ┆          │\n",
      "│ WT        ┆ 903218    ┆ 808567    ┆ 1711785   ┆ … ┆ 227026    ┆ 1020423   ┆ 918388    ┆ 1938811  │\n",
      "│ 2002/03   ┆           ┆           ┆           ┆   ┆           ┆           ┆           ┆          │\n",
      "└───────────┴───────────┴───────────┴───────────┴───┴───────────┴───────────┴───────────┴──────────┘\n",
      "shape: (10, 10)\n",
      "┌───────────┬───────────┬───────────┬───────────┬───┬───────────┬───────────┬───────────┬──────────┐\n",
      "│ year      ┆ germans_m ┆ germans_f ┆ germans_t ┆ … ┆ foreigner ┆ total_mal ┆ total_fem ┆ total_to │\n",
      "│ ---       ┆ ale       ┆ emale     ┆ otal      ┆   ┆ s_total   ┆ e         ┆ ale       ┆ tal      │\n",
      "│ str       ┆ ---       ┆ ---       ┆ ---       ┆   ┆ ---       ┆ ---       ┆ ---       ┆ ---      │\n",
      "│           ┆ i64       ┆ i64       ┆ i64       ┆   ┆ i64       ┆ i64       ┆ i64       ┆ i64      │\n",
      "╞═══════════╪═══════════╪═══════════╪═══════════╪═══╪═══════════╪═══════════╪═══════════╪══════════╡\n",
      "│ WT        ┆ 907403    ┆ 727254    ┆ 1634657   ┆ … ┆ 165994    ┆ 999724    ┆ 800927    ┆ 1800651  │\n",
      "│ 1998/99   ┆           ┆           ┆           ┆   ┆           ┆           ┆           ┆          │\n",
      "│ WT        ┆ 872178    ┆ 723246    ┆ 1595424   ┆ … ┆ 175065    ┆ 967638    ┆ 802851    ┆ 1770489  │\n",
      "│ 1999/00   ┆           ┆           ┆           ┆   ┆           ┆           ┆           ┆          │\n",
      "│ WT        ┆ 870016    ┆ 741820    ┆ 1611836   ┆ … ┆ 187027    ┆ 969922    ┆ 828941    ┆ 1798863  │\n",
      "│ 2000/01   ┆           ┆           ┆           ┆   ┆           ┆           ┆           ┆          │\n",
      "│ WT        ┆ 887462    ┆ 774628    ┆ 1662090   ┆ … ┆ 206241    ┆ 995293    ┆ 873038    ┆ 1868331  │\n",
      "│ 2001/02   ┆           ┆           ┆           ┆   ┆           ┆           ┆           ┆          │\n",
      "│ WT        ┆ 903218    ┆ 808567    ┆ 1711785   ┆ … ┆ 227026    ┆ 1020423   ┆ 918388    ┆ 1938811  │\n",
      "│ 2002/03   ┆           ┆           ┆           ┆   ┆           ┆           ┆           ┆          │\n",
      "│ WT        ┆ 935718    ┆ 837611    ┆ 1773329   ┆ … ┆ 246136    ┆ 1061544   ┆ 957921    ┆ 2019465  │\n",
      "│ 2003/04   ┆           ┆           ┆           ┆   ┆           ┆           ┆           ┆          │\n",
      "│ WT        ┆ 901979    ┆ 814795    ┆ 1716774   ┆ … ┆ 246334    ┆ 1026199   ┆ 936909    ┆ 1963108  │\n",
      "│ 2004/05   ┆           ┆           ┆           ┆   ┆           ┆           ┆           ┆          │\n",
      "│ WT        ┆ 912696    ┆ 824712    ┆ 1737408   ┆ … ┆ 248357    ┆ 1037143   ┆ 948622    ┆ 1985765  │\n",
      "│ 2005/06   ┆           ┆           ┆           ┆   ┆           ┆           ┆           ┆          │\n",
      "│ WT        ┆ 909740    ┆ 822934    ┆ 1732674   ┆ … ┆ 246369    ┆ 1032663   ┆ 946380    ┆ 1979043  │\n",
      "│ 2006/07   ┆           ┆           ┆           ┆   ┆           ┆           ┆           ┆          │\n",
      "│ WT        ┆ 898061    ┆ 809738    ┆ 1707799   ┆ … ┆ 233606    ┆ 1014761   ┆ 926644    ┆ 1941405  │\n",
      "│ 2007/08   ┆           ┆           ┆           ┆   ┆           ┆           ┆           ┆          │\n",
      "└───────────┴───────────┴───────────┴───────────┴───┴───────────┴───────────┴───────────┴──────────┘\n"
     ]
    }
   ],
   "source": [
    "print(df_clean.head())   \n",
    "print(df_clean.head(10)) \n"
   ]
  },
  {
   "cell_type": "code",
   "execution_count": 483,
   "id": "3ec2fd8c",
   "metadata": {},
   "outputs": [
    {
     "name": "stdout",
     "output_type": "stream",
     "text": [
      "(27, 10)\n",
      "['year', 'germans_male', 'germans_female', 'germans_total', 'foreigners_male', 'foreigners_female', 'foreigners_total', 'total_male', 'total_female', 'total_total']\n"
     ]
    }
   ],
   "source": [
    "print(df_clean.shape)\n",
    "print(df_clean.columns)"
   ]
  },
  {
   "cell_type": "code",
   "execution_count": 484,
   "id": "3a0c5780",
   "metadata": {},
   "outputs": [
    {
     "name": "stdout",
     "output_type": "stream",
     "text": [
      "shape: (9, 11)\n",
      "┌───────────┬───────────┬───────────┬───────────┬───┬───────────┬───────────┬───────────┬──────────┐\n",
      "│ statistic ┆ year      ┆ germans_m ┆ germans_f ┆ … ┆ foreigner ┆ total_mal ┆ total_fem ┆ total_to │\n",
      "│ ---       ┆ ---       ┆ ale       ┆ emale     ┆   ┆ s_total   ┆ e         ┆ ale       ┆ tal      │\n",
      "│ str       ┆ str       ┆ ---       ┆ ---       ┆   ┆ ---       ┆ ---       ┆ ---       ┆ ---      │\n",
      "│           ┆           ┆ f64       ┆ f64       ┆   ┆ f64       ┆ f64       ┆ f64       ┆ f64      │\n",
      "╞═══════════╪═══════════╪═══════════╪═══════════╪═══╪═══════════╪═══════════╪═══════════╪══════════╡\n",
      "│ count     ┆ 27        ┆ 27.0      ┆ 27.0      ┆ … ┆ 27.0      ┆ 27.0      ┆ 27.0      ┆ 27.0     │\n",
      "│ null_coun ┆ 0         ┆ 0.0       ┆ 0.0       ┆ … ┆ 0.0       ┆ 0.0       ┆ 0.0       ┆ 0.0      │\n",
      "│ t         ┆           ┆           ┆           ┆   ┆           ┆           ┆           ┆          │\n",
      "│ mean      ┆ null      ┆ 1.0737e6  ┆ 1.0036e6  ┆ … ┆ 305383.29 ┆ 1.2323e6  ┆ 1.150393e ┆ 2.3827e6 │\n",
      "│           ┆           ┆           ┆           ┆   ┆ 6296      ┆           ┆ 6         ┆          │\n",
      "│ std       ┆ null      ┆ 158773.11 ┆ 202026.44 ┆ … ┆ 96571.845 ┆ 202917.96 ┆ 244490.30 ┆ 444812.9 │\n",
      "│           ┆           ┆ 4696      ┆ 5628      ┆   ┆ 567       ┆ 8605      ┆ 2267      ┆ 8315     │\n",
      "│ min       ┆ WT        ┆ 870016.0  ┆ 723246.0  ┆ … ┆ 165994.0  ┆ 967638.0  ┆ 800927.0  ┆ 1.770489 │\n",
      "│           ┆ 1998/99   ┆           ┆           ┆   ┆           ┆           ┆           ┆ e6       │\n",
      "│ 25%       ┆ null      ┆ 909740.0  ┆ 822934.0  ┆ … ┆ 244775.0  ┆ 1.032663e ┆ 946380.0  ┆ 1.979043 │\n",
      "│           ┆           ┆           ┆           ┆   ┆           ┆ 6         ┆           ┆ e6       │\n",
      "│ 50%       ┆ null      ┆ 1.1222e6  ┆ 993482.0  ┆ … ┆ 265292.0  ┆ 1.255372e ┆ 1.125602e ┆ 2.380974 │\n",
      "│           ┆           ┆           ┆           ┆   ┆           ┆ 6         ┆ 6         ┆ e6       │\n",
      "│ 75%       ┆ null      ┆ 1.245029e ┆ 1.215276e ┆ … ┆ 394665.0  ┆ 1.444125e ┆ 1.402244e ┆ 2.864122 │\n",
      "│           ┆           ┆ 6         ┆ 6         ┆   ┆           ┆ 6         ┆ 6         ┆ e6       │\n",
      "│ max       ┆ WT        ┆ 1.270098e ┆ 1.274309e ┆ … ┆ 492087.0  ┆ 1.476366e ┆ 1.476138e ┆ 2.944145 │\n",
      "│           ┆ 2024/25   ┆ 6         ┆ 6         ┆   ┆           ┆ 6         ┆ 6         ┆ e6       │\n",
      "└───────────┴───────────┴───────────┴───────────┴───┴───────────┴───────────┴───────────┴──────────┘\n"
     ]
    }
   ],
   "source": [
    "print(df_clean.describe())\n"
   ]
  },
  {
   "cell_type": "markdown",
   "id": "a8572489",
   "metadata": {},
   "source": [
    "# file 0003"
   ]
  },
  {
   "cell_type": "code",
   "execution_count": 485,
   "id": "5403728d",
   "metadata": {},
   "outputs": [
    {
     "name": "stdout",
     "output_type": "stream",
     "text": [
      "(295, 1)\n",
      "shape: (10, 1)\n",
      "┌─────────────────────────────────┐\n",
      "│ column_1                        │\n",
      "│ ---                             │\n",
      "│ str                             │\n",
      "╞═════════════════════════════════╡\n",
      "│ Year,,Germans,,,,,,Foreigners,… │\n",
      "│ ,,Male,,Female,,Total,,Male,,F… │\n",
      "│ WT 2024/25,Administration of J… │\n",
      "│ ,Administrative Science/Public… │\n",
      "│ ,Adult Education and Extracurr… │\n",
      "│ ,Aeronautical and Aerospace En… │\n",
      "│ ,African Studies,391,e,613,e,1… │\n",
      "│ ,Agricultural Biology,254,e,25… │\n",
      "│ ,Agricultural Economics,625,e,… │\n",
      "│ ,Agricultural Science/Agricult… │\n",
      "└─────────────────────────────────┘\n"
     ]
    }
   ],
   "source": [
    "df_0003 = pl.read_csv('/Users/jhenifheralmeida/DA BOOTCAMP/FINAL PROJECT/DESTATIS/0003.csv',\n",
    "                      separator=';',\n",
    "                      has_header=False\n",
    ")\n",
    "\n",
    "print(df_0003.shape)\n",
    "print(df_0003.head(10))"
   ]
  },
  {
   "cell_type": "code",
   "execution_count": 486,
   "id": "eb5349b4",
   "metadata": {},
   "outputs": [
    {
     "name": "stdout",
     "output_type": "stream",
     "text": [
      "['Year,,Germans,,,,,,Foreigners,,,,,,Total,,,,,_,,Male,,Female,,Total,,Male,,Female,,Total,,Male,,Female,,Total,']\n",
      "shape: (10, 1)\n",
      "┌─────────────────────────────────┐\n",
      "│ Year,,Germans,,,,,,Foreigners,… │\n",
      "│ ---                             │\n",
      "│ str                             │\n",
      "╞═════════════════════════════════╡\n",
      "│ WT 2024/25,Administration of J… │\n",
      "│ ,Administrative Science/Public… │\n",
      "│ ,Adult Education and Extracurr… │\n",
      "│ ,Aeronautical and Aerospace En… │\n",
      "│ ,African Studies,391,e,613,e,1… │\n",
      "│ ,Agricultural Biology,254,e,25… │\n",
      "│ ,Agricultural Economics,625,e,… │\n",
      "│ ,Agricultural Science/Agricult… │\n",
      "│ ,American Studies,582,e,1330,e… │\n",
      "│ ,Ancient History,98,e,84,e,182… │\n",
      "└─────────────────────────────────┘\n"
     ]
    }
   ],
   "source": [
    "header1 = df_0003.row(0)\n",
    "header2 = df_0003.row(1)\n",
    "\n",
    "new_header = []\n",
    "counter = 1\n",
    "for h1, h2 in zip(header1, header2):\n",
    "    if h1 and h2:\n",
    "        new_header.append(f\"{h1}_{h2}\")\n",
    "    elif h1:\n",
    "        new_header.append(h1)\n",
    "    elif h2:\n",
    "        new_header.append(f\"{h2}_{counter}\")\n",
    "        counter += 1\n",
    "    else:\n",
    "        new_header.append(f\"Unknown_{counter}\")\n",
    "        counter += 1\n",
    "\n",
    "df_0003 = df_0003.slice(2, None)  \n",
    "df_0003 = df_0003.rename(dict(zip(df_0003.columns, new_header)))\n",
    "\n",
    "print(df_0003.columns)\n",
    "print(df_0003.head(10))\n"
   ]
  },
  {
   "cell_type": "code",
   "execution_count": 487,
   "id": "74798800",
   "metadata": {},
   "outputs": [
    {
     "name": "stdout",
     "output_type": "stream",
     "text": [
      "shape: (5, 1)\n",
      "┌────────────────┐\n",
      "│ column_1       │\n",
      "│ ---            │\n",
      "│ list[str]      │\n",
      "╞════════════════╡\n",
      "│ [\"Year\"]       │\n",
      "│ null           │\n",
      "│ [\"WT 2024/25\"] │\n",
      "│ null           │\n",
      "│ null           │\n",
      "└────────────────┘\n"
     ]
    }
   ],
   "source": [
    "df_raw = pl.read_csv(\n",
    "    \"/Users/jhenifheralmeida/DA BOOTCAMP/FINAL PROJECT/DESTATIS/0003.csv\",\n",
    "    has_header=False\n",
    ")\n",
    "\n",
    "df_split = df_raw.select(\n",
    "    pl.col(\"column_1\").str.split(\",\")\n",
    ")\n",
    "\n",
    "print(df_split.head(5))\n"
   ]
  },
  {
   "cell_type": "code",
   "execution_count": 580,
   "id": "eb4fa7fd",
   "metadata": {},
   "outputs": [
    {
     "name": "stdout",
     "output_type": "stream",
     "text": [
      "(295, 20)\n",
      "shape: (5, 20)\n",
      "┌────────────┬───────────┬──────────┬──────────┬───┬───────────┬───────────┬───────────┬───────────┐\n",
      "│ column_1   ┆ column_2  ┆ column_3 ┆ column_4 ┆ … ┆ column_17 ┆ column_18 ┆ column_19 ┆ column_20 │\n",
      "│ ---        ┆ ---       ┆ ---      ┆ ---      ┆   ┆ ---       ┆ ---       ┆ ---       ┆ ---       │\n",
      "│ str        ┆ str       ┆ str      ┆ str      ┆   ┆ str       ┆ str       ┆ str       ┆ str       │\n",
      "╞════════════╪═══════════╪══════════╪══════════╪═══╪═══════════╪═══════════╪═══════════╪═══════════╡\n",
      "│ Year       ┆ null      ┆ Germans  ┆ null     ┆ … ┆ null      ┆ null      ┆ null      ┆ null      │\n",
      "│ null       ┆ null      ┆ Male     ┆ null     ┆ … ┆ Female    ┆ null      ┆ Total     ┆ null      │\n",
      "│ WT 2024/25 ┆ Administr ┆ 681      ┆ e        ┆ … ┆ 2442      ┆ e         ┆ 3123      ┆ e         │\n",
      "│            ┆ ation of  ┆          ┆          ┆   ┆           ┆           ┆           ┆           │\n",
      "│            ┆ Justice   ┆          ┆          ┆   ┆           ┆           ┆           ┆           │\n",
      "│ null       ┆ Administr ┆ 7505     ┆ e        ┆ … ┆ 10901     ┆ e         ┆ 18778     ┆ e         │\n",
      "│            ┆ ative Sci ┆          ┆          ┆   ┆           ┆           ┆           ┆           │\n",
      "│            ┆ ence/Publ ┆          ┆          ┆   ┆           ┆           ┆           ┆           │\n",
      "│            ┆ ic …      ┆          ┆          ┆   ┆           ┆           ┆           ┆           │\n",
      "│ null       ┆ Adult     ┆ 466      ┆ e        ┆ … ┆ 1642      ┆ e         ┆ 2135      ┆ e         │\n",
      "│            ┆ Education ┆          ┆          ┆   ┆           ┆           ┆           ┆           │\n",
      "│            ┆ and Extra ┆          ┆          ┆   ┆           ┆           ┆           ┆           │\n",
      "│            ┆ curri…    ┆          ┆          ┆   ┆           ┆           ┆           ┆           │\n",
      "└────────────┴───────────┴──────────┴──────────┴───┴───────────┴───────────┴───────────┴───────────┘\n"
     ]
    }
   ],
   "source": [
    "df_raw = pl.read_csv(\n",
    "    \"/Users/jhenifheralmeida/DA BOOTCAMP/FINAL PROJECT/DESTATIS/0003.csv\",\n",
    "    separator=\",\",      # force comma-split\n",
    "    has_header=False,\n",
    "    ignore_errors=True,\n",
    "    truncate_ragged_lines=True\n",
    ")\n",
    "\n",
    "print(df_raw.shape)\n",
    "print(df_raw.head(5))"
   ]
  },
  {
   "cell_type": "code",
   "execution_count": 581,
   "id": "1de7e439",
   "metadata": {},
   "outputs": [],
   "source": [
    "header1 = df_raw.row(0)  \n",
    "header2 = df_raw.row(1)  "
   ]
  },
  {
   "cell_type": "code",
   "execution_count": 496,
   "id": "fd9c9c81",
   "metadata": {},
   "outputs": [
    {
     "name": "stdout",
     "output_type": "stream",
     "text": [
      "New header: ['Year', 'Unknown_1', 'Germans_Male', 'Unknown_2', 'Female_3', 'Unknown_4', 'Total_5', 'Unknown_6', 'Foreigners_Male', 'Unknown_7', 'Female_8', 'Unknown_9', 'Total_10', 'Unknown_11', 'Total_Male', 'Unknown_12', 'Female_13', 'Unknown_14', 'Total_15', 'Unknown_16']\n"
     ]
    }
   ],
   "source": [
    "new_header = []\n",
    "counter = 1\n",
    "for h1, h2 in zip(header1, header2):\n",
    "    if h1 and h2:  \n",
    "        new_header.append(f\"{h1}_{h2}\")\n",
    "    elif h1:  \n",
    "        new_header.append(h1)\n",
    "    elif h2:  \n",
    "        new_header.append(f\"{h2}_{counter}\")\n",
    "        counter += 1\n",
    "    else:\n",
    "        new_header.append(f\"Unknown_{counter}\")\n",
    "        counter += 1\n",
    "\n",
    "print(\"New header:\", new_header)\n"
   ]
  },
  {
   "cell_type": "code",
   "execution_count": 582,
   "id": "de1e187b",
   "metadata": {},
   "outputs": [
    {
     "name": "stdout",
     "output_type": "stream",
     "text": [
      "['Year', 'Unknown_1', 'Germans_Male', 'Unknown_2', 'Female_3', 'Unknown_4', 'Total_5', 'Unknown_6', 'Foreigners_Male', 'Unknown_7', 'Female_8', 'Unknown_9', 'Total_10', 'Unknown_11', 'Total_Male', 'Unknown_12', 'Female_13', 'Unknown_14', 'Total_15', 'Unknown_16']\n",
      "shape: (10, 20)\n",
      "┌───────────┬───────────┬───────────┬───────────┬───┬───────────┬───────────┬──────────┬───────────┐\n",
      "│ Year      ┆ Unknown_1 ┆ Germans_M ┆ Unknown_2 ┆ … ┆ Female_13 ┆ Unknown_1 ┆ Total_15 ┆ Unknown_1 │\n",
      "│ ---       ┆ ---       ┆ ale       ┆ ---       ┆   ┆ ---       ┆ 4         ┆ ---      ┆ 6         │\n",
      "│ str       ┆ str       ┆ ---       ┆ str       ┆   ┆ str       ┆ ---       ┆ str      ┆ ---       │\n",
      "│           ┆           ┆ str       ┆           ┆   ┆           ┆ str       ┆          ┆ str       │\n",
      "╞═══════════╪═══════════╪═══════════╪═══════════╪═══╪═══════════╪═══════════╪══════════╪═══════════╡\n",
      "│ WT        ┆ Administr ┆ 681       ┆ e         ┆ … ┆ 2442      ┆ e         ┆ 3123     ┆ e         │\n",
      "│ 2024/25   ┆ ation of  ┆           ┆           ┆   ┆           ┆           ┆          ┆           │\n",
      "│           ┆ Justice   ┆           ┆           ┆   ┆           ┆           ┆          ┆           │\n",
      "│ null      ┆ Administr ┆ 7505      ┆ e         ┆ … ┆ 10901     ┆ e         ┆ 18778    ┆ e         │\n",
      "│           ┆ ative Sci ┆           ┆           ┆   ┆           ┆           ┆          ┆           │\n",
      "│           ┆ ence/Publ ┆           ┆           ┆   ┆           ┆           ┆          ┆           │\n",
      "│           ┆ ic …      ┆           ┆           ┆   ┆           ┆           ┆          ┆           │\n",
      "│ null      ┆ Adult     ┆ 466       ┆ e         ┆ … ┆ 1642      ┆ e         ┆ 2135     ┆ e         │\n",
      "│           ┆ Education ┆           ┆           ┆   ┆           ┆           ┆          ┆           │\n",
      "│           ┆ and Extra ┆           ┆           ┆   ┆           ┆           ┆          ┆           │\n",
      "│           ┆ curri…    ┆           ┆           ┆   ┆           ┆           ┆          ┆           │\n",
      "│ null      ┆ Aeronauti ┆ 5216      ┆ e         ┆ … ┆ 1241      ┆ e         ┆ 7936     ┆ e         │\n",
      "│           ┆ cal and   ┆           ┆           ┆   ┆           ┆           ┆          ┆           │\n",
      "│           ┆ Aerospace ┆           ┆           ┆   ┆           ┆           ┆          ┆           │\n",
      "│           ┆ Eng…      ┆           ┆           ┆   ┆           ┆           ┆          ┆           │\n",
      "│ null      ┆ African   ┆ 391       ┆ e         ┆ … ┆ 782       ┆ e         ┆ 1300     ┆ e         │\n",
      "│           ┆ Studies   ┆           ┆           ┆   ┆           ┆           ┆          ┆           │\n",
      "│ null      ┆ Agricultu ┆ 254       ┆ e         ┆ … ┆ 563       ┆ e         ┆ 1140     ┆ e         │\n",
      "│           ┆ ral       ┆           ┆           ┆   ┆           ┆           ┆          ┆           │\n",
      "│           ┆ Biology   ┆           ┆           ┆   ┆           ┆           ┆          ┆           │\n",
      "│ null      ┆ Agricultu ┆ 625       ┆ e         ┆ … ┆ 775       ┆ e         ┆ 1902     ┆ e         │\n",
      "│           ┆ ral       ┆           ┆           ┆   ┆           ┆           ┆          ┆           │\n",
      "│           ┆ Economics ┆           ┆           ┆   ┆           ┆           ┆          ┆           │\n",
      "│ null      ┆ Agricultu ┆ 5810      ┆ e         ┆ … ┆ 6602      ┆ e         ┆ 13700    ┆ e         │\n",
      "│           ┆ ral Scien ┆           ┆           ┆   ┆           ┆           ┆          ┆           │\n",
      "│           ┆ ce/Agricu ┆           ┆           ┆   ┆           ┆           ┆          ┆           │\n",
      "│           ┆ ltu…      ┆           ┆           ┆   ┆           ┆           ┆          ┆           │\n",
      "│ null      ┆ American  ┆ 582       ┆ e         ┆ … ┆ 2160      ┆ e         ┆ 3226     ┆ e         │\n",
      "│           ┆ Studies   ┆           ┆           ┆   ┆           ┆           ┆          ┆           │\n",
      "│ null      ┆ Ancient   ┆ 98        ┆ e         ┆ … ┆ 102       ┆ e         ┆ 226      ┆ e         │\n",
      "│           ┆ History   ┆           ┆           ┆   ┆           ┆           ┆          ┆           │\n",
      "└───────────┴───────────┴───────────┴───────────┴───┴───────────┴───────────┴──────────┴───────────┘\n"
     ]
    }
   ],
   "source": [
    "df_0003 = df_raw.slice(2, None)  # drop first 2 header rows\n",
    "df_0003 = df_0003.rename(dict(zip(df_0003.columns, new_header)))\n",
    "\n",
    "print(df_0003.columns)\n",
    "print(df_0003.head(10))\n"
   ]
  },
  {
   "cell_type": "code",
   "execution_count": 583,
   "id": "cab4253d",
   "metadata": {},
   "outputs": [],
   "source": [
    "df_0003 = df_0003.rename({'Unknown_1': 'field'})"
   ]
  },
  {
   "cell_type": "code",
   "execution_count": 584,
   "id": "daa65b0b",
   "metadata": {},
   "outputs": [
    {
     "name": "stdout",
     "output_type": "stream",
     "text": [
      "['Year', 'field', 'Germans_Male', 'Unknown_2', 'Female_3', 'Unknown_4', 'Total_5', 'Unknown_6', 'Foreigners_Male', 'Unknown_7', 'Female_8', 'Unknown_9', 'Total_10', 'Unknown_11', 'Total_Male', 'Unknown_12', 'Female_13', 'Unknown_14', 'Total_15', 'Unknown_16']\n"
     ]
    }
   ],
   "source": [
    "print(df_0003.columns)"
   ]
  },
  {
   "cell_type": "code",
   "execution_count": 585,
   "id": "4d6e3daf",
   "metadata": {},
   "outputs": [
    {
     "name": "stdout",
     "output_type": "stream",
     "text": [
      "['Year', 'field', 'Germans_Male', 'Female_3', 'Total_5', 'Foreigners_Male', 'Female_8', 'Total_10', 'Total_Male', 'Female_13', 'Total_15']\n"
     ]
    }
   ],
   "source": [
    "df_0003 = df_0003.drop([c for c in df_0003.columns if c.startswith(\"Unknown\")])\n",
    "\n",
    "print(df_0003.columns)\n"
   ]
  },
  {
   "cell_type": "code",
   "execution_count": 586,
   "id": "cf672378",
   "metadata": {},
   "outputs": [],
   "source": [
    "df_0003 = df_0003.rename({\n",
    "    'Year': 'year',\n",
    "    'Germans_Male': 'germans_male',\n",
    "    'Female_3': 'germans_female',\n",
    "    'Total_5': 'germans_total',\n",
    "    'Foreigners_Male': 'foreigners_male',\n",
    "    'Female_8': 'foreigners_female',\n",
    "    'Total_10': 'foreigners_total',\n",
    "    'Total_Male': 'total_male',\n",
    "    'Female_13': 'total_female',\n",
    "    'Total_15': 'general_total'\n",
    "})"
   ]
  },
  {
   "cell_type": "code",
   "execution_count": 587,
   "id": "604ad129",
   "metadata": {},
   "outputs": [],
   "source": [
    "df_0003 = df_0003.with_columns([\n",
    "    pl.col(c).cast(pl.Int64, strict=False)\n",
    "    for c in df_0003.columns if c not in [\"year\", \"field\"]\n",
    "])\n"
   ]
  },
  {
   "cell_type": "code",
   "execution_count": 588,
   "id": "0079c07b",
   "metadata": {},
   "outputs": [
    {
     "name": "stdout",
     "output_type": "stream",
     "text": [
      "['year', 'field', 'germans_male', 'germans_female', 'germans_total', 'foreigners_male', 'foreigners_female', 'foreigners_total', 'total_male', 'total_female', 'general_total']\n"
     ]
    }
   ],
   "source": [
    "print(df_0003.columns)"
   ]
  },
  {
   "cell_type": "code",
   "execution_count": 601,
   "id": "0be95cfa",
   "metadata": {},
   "outputs": [
    {
     "name": "stdout",
     "output_type": "stream",
     "text": [
      "['year', 'field', 'germans_male', 'germans_female', 'germans_total', 'foreigners_male', 'foreigners_female', 'foreigners_total', 'total_male', 'total_female', 'general_total']\n",
      "shape: (10, 11)\n",
      "┌───────────┬───────────┬───────────┬───────────┬───┬───────────┬───────────┬───────────┬──────────┐\n",
      "│ year      ┆ field     ┆ germans_m ┆ germans_f ┆ … ┆ foreigner ┆ total_mal ┆ total_fem ┆ general_ │\n",
      "│ ---       ┆ ---       ┆ ale       ┆ emale     ┆   ┆ s_total   ┆ e         ┆ ale       ┆ total    │\n",
      "│ str       ┆ str       ┆ ---       ┆ ---       ┆   ┆ ---       ┆ ---       ┆ ---       ┆ ---      │\n",
      "│           ┆           ┆ i64       ┆ i64       ┆   ┆ i64       ┆ i64       ┆ i64       ┆ i64      │\n",
      "╞═══════════╪═══════════╪═══════════╪═══════════╪═══╪═══════════╪═══════════╪═══════════╪══════════╡\n",
      "│ WT        ┆ Administr ┆ 681       ┆ 2440      ┆ … ┆ 2         ┆ 681       ┆ 2442      ┆ 3123     │\n",
      "│ 2024/25   ┆ ation of  ┆           ┆           ┆   ┆           ┆           ┆           ┆          │\n",
      "│           ┆ Justice   ┆           ┆           ┆   ┆           ┆           ┆           ┆          │\n",
      "│ null      ┆ Administr ┆ 7505      ┆ 10553     ┆ … ┆ 720       ┆ 7877      ┆ 10901     ┆ 18778    │\n",
      "│           ┆ ative Sci ┆           ┆           ┆   ┆           ┆           ┆           ┆          │\n",
      "│           ┆ ence/Publ ┆           ┆           ┆   ┆           ┆           ┆           ┆          │\n",
      "│           ┆ ic …      ┆           ┆           ┆   ┆           ┆           ┆           ┆          │\n",
      "│ null      ┆ Adult     ┆ 466       ┆ 1542      ┆ … ┆ 127       ┆ 493       ┆ 1642      ┆ 2135     │\n",
      "│           ┆ Education ┆           ┆           ┆   ┆           ┆           ┆           ┆          │\n",
      "│           ┆ and Extra ┆           ┆           ┆   ┆           ┆           ┆           ┆          │\n",
      "│           ┆ curri…    ┆           ┆           ┆   ┆           ┆           ┆           ┆          │\n",
      "│ null      ┆ Aeronauti ┆ 5216      ┆ 822       ┆ … ┆ 1898      ┆ 6695      ┆ 1241      ┆ 7936     │\n",
      "│           ┆ cal and   ┆           ┆           ┆   ┆           ┆           ┆           ┆          │\n",
      "│           ┆ Aerospace ┆           ┆           ┆   ┆           ┆           ┆           ┆          │\n",
      "│           ┆ Eng…      ┆           ┆           ┆   ┆           ┆           ┆           ┆          │\n",
      "│ null      ┆ African   ┆ 391       ┆ 613       ┆ … ┆ 296       ┆ 518       ┆ 782       ┆ 1300     │\n",
      "│           ┆ Studies   ┆           ┆           ┆   ┆           ┆           ┆           ┆          │\n",
      "│ null      ┆ Agricultu ┆ 254       ┆ 255       ┆ … ┆ 631       ┆ 577       ┆ 563       ┆ 1140     │\n",
      "│           ┆ ral       ┆           ┆           ┆   ┆           ┆           ┆           ┆          │\n",
      "│           ┆ Biology   ┆           ┆           ┆   ┆           ┆           ┆           ┆          │\n",
      "│ null      ┆ Agricultu ┆ 625       ┆ 414       ┆ … ┆ 863       ┆ 1127      ┆ 775       ┆ 1902     │\n",
      "│           ┆ ral       ┆           ┆           ┆   ┆           ┆           ┆           ┆          │\n",
      "│           ┆ Economics ┆           ┆           ┆   ┆           ┆           ┆           ┆          │\n",
      "│ null      ┆ Agricultu ┆ 5810      ┆ 5349      ┆ … ┆ 2541      ┆ 7098      ┆ 6602      ┆ 13700    │\n",
      "│           ┆ ral Scien ┆           ┆           ┆   ┆           ┆           ┆           ┆          │\n",
      "│           ┆ ce/Agricu ┆           ┆           ┆   ┆           ┆           ┆           ┆          │\n",
      "│           ┆ ltu…      ┆           ┆           ┆   ┆           ┆           ┆           ┆          │\n",
      "│ null      ┆ American  ┆ 582       ┆ 1330      ┆ … ┆ 1314      ┆ 1066      ┆ 2160      ┆ 3226     │\n",
      "│           ┆ Studies   ┆           ┆           ┆   ┆           ┆           ┆           ┆          │\n",
      "│ null      ┆ Ancient   ┆ 98        ┆ 84        ┆ … ┆ 44        ┆ 124       ┆ 102       ┆ 226      │\n",
      "│           ┆ History   ┆           ┆           ┆   ┆           ┆           ┆           ┆          │\n",
      "└───────────┴───────────┴───────────┴───────────┴───┴───────────┴───────────┴───────────┴──────────┘\n"
     ]
    }
   ],
   "source": [
    "print(df_0003.columns)   \n",
    "print(df_0003.head(10))"
   ]
  },
  {
   "cell_type": "markdown",
   "id": "a67b27f0",
   "metadata": {},
   "source": [
    "## file 0004"
   ]
  },
  {
   "cell_type": "code",
   "execution_count": 592,
   "id": "4923f091",
   "metadata": {},
   "outputs": [
    {
     "name": "stdout",
     "output_type": "stream",
     "text": [
      "(103, 1)\n",
      "shape: (10, 1)\n",
      "┌─────────────────────────────────┐\n",
      "│ column_1                        │\n",
      "│ ---                             │\n",
      "│ str                             │\n",
      "╞═════════════════════════════════╡\n",
      "│ Year,,Germans,,,,,,Foreigners,… │\n",
      "│ ,,Male,,Female,,Total,,Male,,F… │\n",
      "│ WT 2024/25,Magister degree,736… │\n",
      "│ ,Lizentiat degree,79,e,33,e,11… │\n",
      "│ ,Catholic/Protestant Church ex… │\n",
      "│ ,State examination/1st state e… │\n",
      "│ ,State examination (one-phase … │\n",
      "│ ,Faculty examination,538,e,487… │\n",
      "│ ,Diplom degree (university),52… │\n",
      "│ ,Diplom degree I (university -… │\n",
      "└─────────────────────────────────┘\n"
     ]
    }
   ],
   "source": [
    "df_0004 = pl.read_csv('/Users/jhenifheralmeida/DA BOOTCAMP/FINAL PROJECT/DESTATIS/0004.csv',\n",
    "                      separator=';',\n",
    "                      has_header=False,\n",
    "                      truncate_ragged_lines=True,\n",
    "                      ignore_errors=True\n",
    ")\n",
    "\n",
    "print(df_0004.shape)\n",
    "print(df_0004.head(10))"
   ]
  },
  {
   "cell_type": "code",
   "execution_count": 593,
   "id": "0b551e58",
   "metadata": {},
   "outputs": [],
   "source": [
    "header1 = df_raw.row(0)\n",
    "header2 = df_raw.row(1)"
   ]
  },
  {
   "cell_type": "code",
   "execution_count": 594,
   "id": "ae929b03",
   "metadata": {},
   "outputs": [
    {
     "name": "stdout",
     "output_type": "stream",
     "text": [
      "New header: ['Year', 'Unknown_1', 'Germans_Male', 'Unknown_2', 'Female_3', 'Unknown_4', 'Total_5', 'Unknown_6', 'Foreigners_Male', 'Unknown_7', 'Female_8', 'Unknown_9', 'Total_10', 'Unknown_11', 'Total_Male', 'Unknown_12', 'Female_13', 'Unknown_14', 'Total_15', 'Unknown_16']\n"
     ]
    }
   ],
   "source": [
    "new_header = []\n",
    "counter = 1\n",
    "for h1, h2 in zip(header1, header2):\n",
    "    if h1 and h2:\n",
    "        new_header.append(f\"{h1}_{h2}\")\n",
    "    elif h1:\n",
    "        new_header.append(h1)\n",
    "    elif h2:\n",
    "        new_header.append(f\"{h2}_{counter}\")\n",
    "        counter += 1\n",
    "    else:\n",
    "        new_header.append(f\"Unknown_{counter}\")\n",
    "        counter += 1\n",
    "\n",
    "print(\"New header:\", new_header)"
   ]
  },
  {
   "cell_type": "code",
   "execution_count": 595,
   "id": "d30178a3",
   "metadata": {},
   "outputs": [
    {
     "name": "stdout",
     "output_type": "stream",
     "text": [
      "['Year', 'Unknown_1', 'Germans_Male', 'Unknown_2', 'Female_3', 'Unknown_4', 'Total_5', 'Unknown_6', 'Foreigners_Male', 'Unknown_7', 'Female_8', 'Unknown_9', 'Total_10', 'Unknown_11', 'Total_Male', 'Unknown_12', 'Female_13', 'Unknown_14', 'Total_15', 'Unknown_16']\n",
      "shape: (10, 20)\n",
      "┌───────────┬───────────┬───────────┬───────────┬───┬───────────┬───────────┬──────────┬───────────┐\n",
      "│ Year      ┆ Unknown_1 ┆ Germans_M ┆ Unknown_2 ┆ … ┆ Female_13 ┆ Unknown_1 ┆ Total_15 ┆ Unknown_1 │\n",
      "│ ---       ┆ ---       ┆ ale       ┆ ---       ┆   ┆ ---       ┆ 4         ┆ ---      ┆ 6         │\n",
      "│ str       ┆ str       ┆ ---       ┆ str       ┆   ┆ str       ┆ ---       ┆ str      ┆ ---       │\n",
      "│           ┆           ┆ str       ┆           ┆   ┆           ┆ str       ┆          ┆ str       │\n",
      "╞═══════════╪═══════════╪═══════════╪═══════════╪═══╪═══════════╪═══════════╪══════════╪═══════════╡\n",
      "│ WT        ┆ Administr ┆ 681       ┆ e         ┆ … ┆ 2442      ┆ e         ┆ 3123     ┆ e         │\n",
      "│ 2024/25   ┆ ation of  ┆           ┆           ┆   ┆           ┆           ┆          ┆           │\n",
      "│           ┆ Justice   ┆           ┆           ┆   ┆           ┆           ┆          ┆           │\n",
      "│ null      ┆ Administr ┆ 7505      ┆ e         ┆ … ┆ 10901     ┆ e         ┆ 18778    ┆ e         │\n",
      "│           ┆ ative Sci ┆           ┆           ┆   ┆           ┆           ┆          ┆           │\n",
      "│           ┆ ence/Publ ┆           ┆           ┆   ┆           ┆           ┆          ┆           │\n",
      "│           ┆ ic …      ┆           ┆           ┆   ┆           ┆           ┆          ┆           │\n",
      "│ null      ┆ Adult     ┆ 466       ┆ e         ┆ … ┆ 1642      ┆ e         ┆ 2135     ┆ e         │\n",
      "│           ┆ Education ┆           ┆           ┆   ┆           ┆           ┆          ┆           │\n",
      "│           ┆ and Extra ┆           ┆           ┆   ┆           ┆           ┆          ┆           │\n",
      "│           ┆ curri…    ┆           ┆           ┆   ┆           ┆           ┆          ┆           │\n",
      "│ null      ┆ Aeronauti ┆ 5216      ┆ e         ┆ … ┆ 1241      ┆ e         ┆ 7936     ┆ e         │\n",
      "│           ┆ cal and   ┆           ┆           ┆   ┆           ┆           ┆          ┆           │\n",
      "│           ┆ Aerospace ┆           ┆           ┆   ┆           ┆           ┆          ┆           │\n",
      "│           ┆ Eng…      ┆           ┆           ┆   ┆           ┆           ┆          ┆           │\n",
      "│ null      ┆ African   ┆ 391       ┆ e         ┆ … ┆ 782       ┆ e         ┆ 1300     ┆ e         │\n",
      "│           ┆ Studies   ┆           ┆           ┆   ┆           ┆           ┆          ┆           │\n",
      "│ null      ┆ Agricultu ┆ 254       ┆ e         ┆ … ┆ 563       ┆ e         ┆ 1140     ┆ e         │\n",
      "│           ┆ ral       ┆           ┆           ┆   ┆           ┆           ┆          ┆           │\n",
      "│           ┆ Biology   ┆           ┆           ┆   ┆           ┆           ┆          ┆           │\n",
      "│ null      ┆ Agricultu ┆ 625       ┆ e         ┆ … ┆ 775       ┆ e         ┆ 1902     ┆ e         │\n",
      "│           ┆ ral       ┆           ┆           ┆   ┆           ┆           ┆          ┆           │\n",
      "│           ┆ Economics ┆           ┆           ┆   ┆           ┆           ┆          ┆           │\n",
      "│ null      ┆ Agricultu ┆ 5810      ┆ e         ┆ … ┆ 6602      ┆ e         ┆ 13700    ┆ e         │\n",
      "│           ┆ ral Scien ┆           ┆           ┆   ┆           ┆           ┆          ┆           │\n",
      "│           ┆ ce/Agricu ┆           ┆           ┆   ┆           ┆           ┆          ┆           │\n",
      "│           ┆ ltu…      ┆           ┆           ┆   ┆           ┆           ┆          ┆           │\n",
      "│ null      ┆ American  ┆ 582       ┆ e         ┆ … ┆ 2160      ┆ e         ┆ 3226     ┆ e         │\n",
      "│           ┆ Studies   ┆           ┆           ┆   ┆           ┆           ┆          ┆           │\n",
      "│ null      ┆ Ancient   ┆ 98        ┆ e         ┆ … ┆ 102       ┆ e         ┆ 226      ┆ e         │\n",
      "│           ┆ History   ┆           ┆           ┆   ┆           ┆           ┆          ┆           │\n",
      "└───────────┴───────────┴───────────┴───────────┴───┴───────────┴───────────┴──────────┴───────────┘\n"
     ]
    }
   ],
   "source": [
    "df_0004 = df_raw.slice(2, None)  # drop metadata rows\n",
    "df_0004 = df_0004.rename(dict(zip(df_0004.columns, new_header)))\n",
    "\n",
    "print(df_0004.columns)\n",
    "print(df_0004.head(10))\n"
   ]
  },
  {
   "cell_type": "code",
   "execution_count": 596,
   "id": "94eb0650",
   "metadata": {},
   "outputs": [],
   "source": [
    "df_0004 = df_0004.rename({'Unknown_1': 'degree'})"
   ]
  },
  {
   "cell_type": "code",
   "execution_count": 597,
   "id": "d64e3015",
   "metadata": {},
   "outputs": [
    {
     "name": "stdout",
     "output_type": "stream",
     "text": [
      "['Year', 'degree', 'Germans_Male', 'Unknown_2', 'Female_3', 'Unknown_4', 'Total_5', 'Unknown_6', 'Foreigners_Male', 'Unknown_7', 'Female_8', 'Unknown_9', 'Total_10', 'Unknown_11', 'Total_Male', 'Unknown_12', 'Female_13', 'Unknown_14', 'Total_15', 'Unknown_16']\n"
     ]
    }
   ],
   "source": [
    "print(df_0004.columns)"
   ]
  },
  {
   "cell_type": "code",
   "execution_count": 598,
   "id": "fbc8170c",
   "metadata": {},
   "outputs": [
    {
     "name": "stdout",
     "output_type": "stream",
     "text": [
      "['Year', 'degree', 'Germans_Male', 'Female_3', 'Total_5', 'Foreigners_Male', 'Female_8', 'Total_10', 'Total_Male', 'Female_13', 'Total_15']\n"
     ]
    }
   ],
   "source": [
    "df_0004 = df_0004.drop([c for c in df_0004.columns if c.startswith(\"Unknown\") and c != 'degree'])\n",
    "\n",
    "print(df_0004.columns)"
   ]
  },
  {
   "cell_type": "code",
   "execution_count": 599,
   "id": "65fb4e3d",
   "metadata": {},
   "outputs": [],
   "source": [
    "df_0004 = df_0004.rename({\n",
    "    'Year': 'year',\n",
    "    'Germans_Male': 'germans_male',\n",
    "    'Female_3': 'germans_female',\n",
    "    'Total_5': 'germans_total',\n",
    "    'Foreigners_Male': 'foreigners_male',\n",
    "    'Female_8': 'foreigners_female',\n",
    "    'Total_10': 'foreigners_total',\n",
    "    'Total_Male': 'total_male',\n",
    "    'Female_13': 'total_female',\n",
    "    'Total_15': 'general_total'\n",
    "})\n",
    "\n"
   ]
  },
  {
   "cell_type": "code",
   "execution_count": 602,
   "id": "4fb422f7",
   "metadata": {},
   "outputs": [
    {
     "name": "stdout",
     "output_type": "stream",
     "text": [
      "['year', 'degree', 'germans_male', 'germans_female', 'germans_total', 'foreigners_male', 'foreigners_female', 'foreigners_total', 'total_male', 'total_female', 'general_total']\n",
      "shape: (10, 11)\n",
      "┌───────────┬───────────┬───────────┬───────────┬───┬───────────┬───────────┬───────────┬──────────┐\n",
      "│ year      ┆ degree    ┆ germans_m ┆ germans_f ┆ … ┆ foreigner ┆ total_mal ┆ total_fem ┆ general_ │\n",
      "│ ---       ┆ ---       ┆ ale       ┆ emale     ┆   ┆ s_total   ┆ e         ┆ ale       ┆ total    │\n",
      "│ str       ┆ str       ┆ ---       ┆ ---       ┆   ┆ ---       ┆ ---       ┆ ---       ┆ ---      │\n",
      "│           ┆           ┆ str       ┆ str       ┆   ┆ str       ┆ str       ┆ str       ┆ str      │\n",
      "╞═══════════╪═══════════╪═══════════╪═══════════╪═══╪═══════════╪═══════════╪═══════════╪══════════╡\n",
      "│ WT        ┆ Administr ┆ 681       ┆ 2440      ┆ … ┆ 2         ┆ 681       ┆ 2442      ┆ 3123     │\n",
      "│ 2024/25   ┆ ation of  ┆           ┆           ┆   ┆           ┆           ┆           ┆          │\n",
      "│           ┆ Justice   ┆           ┆           ┆   ┆           ┆           ┆           ┆          │\n",
      "│ null      ┆ Administr ┆ 7505      ┆ 10553     ┆ … ┆ 720       ┆ 7877      ┆ 10901     ┆ 18778    │\n",
      "│           ┆ ative Sci ┆           ┆           ┆   ┆           ┆           ┆           ┆          │\n",
      "│           ┆ ence/Publ ┆           ┆           ┆   ┆           ┆           ┆           ┆          │\n",
      "│           ┆ ic …      ┆           ┆           ┆   ┆           ┆           ┆           ┆          │\n",
      "│ null      ┆ Adult     ┆ 466       ┆ 1542      ┆ … ┆ 127       ┆ 493       ┆ 1642      ┆ 2135     │\n",
      "│           ┆ Education ┆           ┆           ┆   ┆           ┆           ┆           ┆          │\n",
      "│           ┆ and Extra ┆           ┆           ┆   ┆           ┆           ┆           ┆          │\n",
      "│           ┆ curri…    ┆           ┆           ┆   ┆           ┆           ┆           ┆          │\n",
      "│ null      ┆ Aeronauti ┆ 5216      ┆ 822       ┆ … ┆ 1898      ┆ 6695      ┆ 1241      ┆ 7936     │\n",
      "│           ┆ cal and   ┆           ┆           ┆   ┆           ┆           ┆           ┆          │\n",
      "│           ┆ Aerospace ┆           ┆           ┆   ┆           ┆           ┆           ┆          │\n",
      "│           ┆ Eng…      ┆           ┆           ┆   ┆           ┆           ┆           ┆          │\n",
      "│ null      ┆ African   ┆ 391       ┆ 613       ┆ … ┆ 296       ┆ 518       ┆ 782       ┆ 1300     │\n",
      "│           ┆ Studies   ┆           ┆           ┆   ┆           ┆           ┆           ┆          │\n",
      "│ null      ┆ Agricultu ┆ 254       ┆ 255       ┆ … ┆ 631       ┆ 577       ┆ 563       ┆ 1140     │\n",
      "│           ┆ ral       ┆           ┆           ┆   ┆           ┆           ┆           ┆          │\n",
      "│           ┆ Biology   ┆           ┆           ┆   ┆           ┆           ┆           ┆          │\n",
      "│ null      ┆ Agricultu ┆ 625       ┆ 414       ┆ … ┆ 863       ┆ 1127      ┆ 775       ┆ 1902     │\n",
      "│           ┆ ral       ┆           ┆           ┆   ┆           ┆           ┆           ┆          │\n",
      "│           ┆ Economics ┆           ┆           ┆   ┆           ┆           ┆           ┆          │\n",
      "│ null      ┆ Agricultu ┆ 5810      ┆ 5349      ┆ … ┆ 2541      ┆ 7098      ┆ 6602      ┆ 13700    │\n",
      "│           ┆ ral Scien ┆           ┆           ┆   ┆           ┆           ┆           ┆          │\n",
      "│           ┆ ce/Agricu ┆           ┆           ┆   ┆           ┆           ┆           ┆          │\n",
      "│           ┆ ltu…      ┆           ┆           ┆   ┆           ┆           ┆           ┆          │\n",
      "│ null      ┆ American  ┆ 582       ┆ 1330      ┆ … ┆ 1314      ┆ 1066      ┆ 2160      ┆ 3226     │\n",
      "│           ┆ Studies   ┆           ┆           ┆   ┆           ┆           ┆           ┆          │\n",
      "│ null      ┆ Ancient   ┆ 98        ┆ 84        ┆ … ┆ 44        ┆ 124       ┆ 102       ┆ 226      │\n",
      "│           ┆ History   ┆           ┆           ┆   ┆           ┆           ┆           ┆          │\n",
      "└───────────┴───────────┴───────────┴───────────┴───┴───────────┴───────────┴───────────┴──────────┘\n"
     ]
    }
   ],
   "source": [
    "print(df_0004.columns)   \n",
    "print(df_0004.head(10))"
   ]
  },
  {
   "cell_type": "markdown",
   "id": "0a25e530",
   "metadata": {},
   "source": [
    "## CLEANING DAAD"
   ]
  },
  {
   "cell_type": "code",
   "execution_count": 639,
   "id": "a08e10ac",
   "metadata": {},
   "outputs": [
    {
     "name": "stdout",
     "output_type": "stream",
     "text": [
      "Shape: (20, 8)\n",
      "Columns: ['Country', 'Individual – G', 'Individual – F', 'Project – G', 'Project – F', 'Total – G', 'Total – F', 'Grand Total']\n",
      "shape: (20, 8)\n",
      "┌─────────────┬────────────┬────────────┬────────────┬────────────┬───────────┬───────────┬────────┐\n",
      "│ Country     ┆ Individual ┆ Individual ┆ Project –  ┆ Project –  ┆ Total – G ┆ Total – F ┆ Grand  │\n",
      "│ ---         ┆ – G        ┆ – F        ┆ G          ┆ F          ┆ ---       ┆ ---       ┆ Total  │\n",
      "│ str         ┆ ---        ┆ ---        ┆ ---        ┆ ---        ┆ str       ┆ str       ┆ ---    │\n",
      "│             ┆ str        ┆ str        ┆ str        ┆ str        ┆           ┆           ┆ str    │\n",
      "╞═════════════╪════════════╪════════════╪════════════╪════════════╪═══════════╪═══════════╪════════╡\n",
      "│ Argentina   ┆ 174        ┆ 526        ┆ 121        ┆ 220        ┆ 295       ┆ 746       ┆ 1,041  │\n",
      "│ Bolivia     ┆ 34         ┆ 108        ┆ 19         ┆ 46         ┆ 53        ┆ 154       ┆ 207    │\n",
      "│ Brazil      ┆ 624        ┆ 1,881      ┆ 301        ┆ 980        ┆ 925       ┆ 2,861     ┆ 3,786  │\n",
      "│ Chile       ┆ 103        ┆ 398        ┆ 67         ┆ 205        ┆ 170       ┆ 603       ┆ 773    │\n",
      "│ Colombia    ┆ 82         ┆ 322        ┆ 54         ┆ 173        ┆ 136       ┆ 495       ┆ 631    │\n",
      "│ …           ┆ …          ┆ …          ┆ …          ┆ …          ┆ …         ┆ …         ┆ …      │\n",
      "│ Paraguay    ┆ 24         ┆ 99         ┆ 13         ┆ 36         ┆ 37        ┆ 135       ┆ 172    │\n",
      "│ Peru        ┆ 71         ┆ 350        ┆ 42         ┆ 110        ┆ 113       ┆ 460       ┆ 573    │\n",
      "│ Uruguay     ┆ 25         ┆ 97         ┆ 15         ┆ 36         ┆ 40        ┆ 133       ┆ 173    │\n",
      "│ Venezuela   ┆ 36         ┆ 210        ┆ 23         ┆ 62         ┆ 59        ┆ 272       ┆ 331    │\n",
      "│ Latin       ┆ 1,651      ┆ 5,879      ┆ 1,012      ┆ 2,953      ┆ 2,663     ┆ 8,832     ┆ 11,495 │\n",
      "│ America     ┆            ┆            ┆            ┆            ┆           ┆           ┆        │\n",
      "│ Total       ┆            ┆            ┆            ┆            ┆           ┆           ┆        │\n",
      "└─────────────┴────────────┴────────────┴────────────┴────────────┴───────────┴───────────┴────────┘\n"
     ]
    }
   ],
   "source": [
    "df_2013 = pl.read_csv('/Users/jhenifheralmeida/DA BOOTCAMP/FINAL PROJECT/DAAD/DAAD_CSV/2013.csv',\n",
    "                      separator=\",\",\n",
    "                      has_header=True,\n",
    "                      ignore_errors=True     \n",
    "\n",
    ")\n",
    "\n",
    "print(\"Shape:\", df_2013.shape)\n",
    "print(\"Columns:\", df_2013.columns)\n",
    "print(df_2013.head(20))"
   ]
  },
  {
   "cell_type": "code",
   "execution_count": 640,
   "id": "72bec8d3",
   "metadata": {},
   "outputs": [],
   "source": [
    "#add year column\n",
    "df_2013 = df_2013.with_columns(pl.lit(2013).alias('year'))"
   ]
  },
  {
   "cell_type": "code",
   "execution_count": 641,
   "id": "642136da",
   "metadata": {},
   "outputs": [],
   "source": [
    "#dropping total\n",
    "df_2013 = df_2013.filter(~pl.col(\"Country\").str.contains(\"Latin America|Total\"))\n"
   ]
  },
  {
   "cell_type": "code",
   "execution_count": 642,
   "id": "8f84bd01",
   "metadata": {},
   "outputs": [
    {
     "name": "stdout",
     "output_type": "stream",
     "text": [
      "['Country', 'Individual - G', 'Individual - F', 'Project - G', 'Project - F', 'Total - G', 'Total - F', 'Grand Total', 'year']\n"
     ]
    }
   ],
   "source": [
    "df_2013 = df_2013.rename({c: c.replace(\"–\", \"-\") for c in df_2013.columns})\n",
    "print(df_2013.columns)\n"
   ]
  },
  {
   "cell_type": "code",
   "execution_count": 643,
   "id": "5cf7fc57",
   "metadata": {},
   "outputs": [
    {
     "name": "stdout",
     "output_type": "stream",
     "text": [
      "shape: (10, 9)\n",
      "┌────────────┬────────────┬────────────┬────────────┬───┬───────────┬───────────┬───────────┬──────┐\n",
      "│ Country    ┆ individual ┆ individual ┆ project_ma ┆ … ┆ total_mal ┆ total_fem ┆ grand_tot ┆ year │\n",
      "│ ---        ┆ _male      ┆ _female    ┆ le         ┆   ┆ e         ┆ ale       ┆ al        ┆ ---  │\n",
      "│ str        ┆ ---        ┆ ---        ┆ ---        ┆   ┆ ---       ┆ ---       ┆ ---       ┆ i32  │\n",
      "│            ┆ str        ┆ str        ┆ str        ┆   ┆ str       ┆ str       ┆ str       ┆      │\n",
      "╞════════════╪════════════╪════════════╪════════════╪═══╪═══════════╪═══════════╪═══════════╪══════╡\n",
      "│ Argentina  ┆ 174        ┆ 526        ┆ 121        ┆ … ┆ 295       ┆ 746       ┆ 1,041     ┆ 2013 │\n",
      "│ Bolivia    ┆ 34         ┆ 108        ┆ 19         ┆ … ┆ 53        ┆ 154       ┆ 207       ┆ 2013 │\n",
      "│ Brazil     ┆ 624        ┆ 1,881      ┆ 301        ┆ … ┆ 925       ┆ 2,861     ┆ 3,786     ┆ 2013 │\n",
      "│ Chile      ┆ 103        ┆ 398        ┆ 67         ┆ … ┆ 170       ┆ 603       ┆ 773       ┆ 2013 │\n",
      "│ Colombia   ┆ 82         ┆ 322        ┆ 54         ┆ … ┆ 136       ┆ 495       ┆ 631       ┆ 2013 │\n",
      "│ Costa Rica ┆ 27         ┆ 96         ┆ 16         ┆ … ┆ 43        ┆ 136       ┆ 179       ┆ 2013 │\n",
      "│ Cuba       ┆ 18         ┆ 102        ┆ 12         ┆ … ┆ 30        ┆ 137       ┆ 167       ┆ 2013 │\n",
      "│ Dominican  ┆ 39         ┆ 121        ┆ 20         ┆ … ┆ 59        ┆ 173       ┆ 232       ┆ 2013 │\n",
      "│ Republic   ┆            ┆            ┆            ┆   ┆           ┆           ┆           ┆      │\n",
      "│ Ecuador    ┆ 62         ┆ 257        ┆ 33         ┆ … ┆ 95        ┆ 338       ┆ 433       ┆ 2013 │\n",
      "│ El         ┆ 21         ┆ 89         ┆ 13         ┆ … ┆ 34        ┆ 123       ┆ 157       ┆ 2013 │\n",
      "│ Salvador   ┆            ┆            ┆            ┆   ┆           ┆           ┆           ┆      │\n",
      "└────────────┴────────────┴────────────┴────────────┴───┴───────────┴───────────┴───────────┴──────┘\n"
     ]
    }
   ],
   "source": [
    "df_2013 = df_2013.rename({\n",
    "    \"Individual - G\": \"individual_male\",\n",
    "    \"Individual - F\": \"individual_female\",\n",
    "    \"Project - G\": \"project_male\",\n",
    "    \"Project - F\": \"project_female\",\n",
    "    \"Total - G\": \"total_male\",\n",
    "    \"Total - F\": \"total_female\",\n",
    "    \"Grand Total\": \"grand_total\"\n",
    "\n",
    "})\n",
    "\n",
    "print(df_2013.head(10))"
   ]
  },
  {
   "cell_type": "code",
   "execution_count": 708,
   "id": "b8b7f4ac",
   "metadata": {},
   "outputs": [
    {
     "name": "stdout",
     "output_type": "stream",
     "text": [
      "['Country', 'individual_male', 'individual_female', 'project_male', 'project_female', 'total_male', 'total_female', 'grand_total', 'year']\n"
     ]
    }
   ],
   "source": [
    "print(df_2013.columns)\n"
   ]
  },
  {
   "cell_type": "markdown",
   "id": "33600d3e",
   "metadata": {},
   "source": [
    "## loop with all the DAAD years. 2013 - 2023"
   ]
  },
  {
   "cell_type": "code",
   "execution_count": 715,
   "id": "f5ed7d08",
   "metadata": {},
   "outputs": [],
   "source": [
    "import polars as pl\n",
    "import glob \n",
    "import os\n",
    "import re"
   ]
  },
  {
   "cell_type": "code",
   "execution_count": 724,
   "id": "4adfe08d",
   "metadata": {},
   "outputs": [],
   "source": [
    "files = glob.glob('/Users/jhenifheralmeida/DA BOOTCAMP/FINAL PROJECT/DAAD/DAAD_CSV/*.csv')\n"
   ]
  },
  {
   "cell_type": "code",
   "execution_count": 733,
   "id": "4e17de19",
   "metadata": {},
   "outputs": [
    {
     "name": "stdout",
     "output_type": "stream",
     "text": [
      "Final Shap: (276, 29)\n",
      "shape: (20, 29)\n",
      "┌─────────────┬────────────┬────────────┬────────────┬───┬────────────┬────────────┬───────┬───────┐\n",
      "│ Country     ┆ individual ┆ individual ┆ project_ma ┆ … ┆ Total      ┆ Total      ┆ Grand ┆ Grand │\n",
      "│ ---         ┆ _male      ┆ _female    ┆ le         ┆   ┆ Funding -  ┆ Funding -  ┆ Total ┆ Total │\n",
      "│ str         ┆ ---        ┆ ---        ┆ ---        ┆   ┆ A          ┆ D          ┆ (A+D) ┆ (G+F) │\n",
      "│             ┆ i64        ┆ i64        ┆ i64        ┆   ┆ ---        ┆ ---        ┆ ---   ┆ ---   │\n",
      "│             ┆            ┆            ┆            ┆   ┆ i64        ┆ i64        ┆ i64   ┆ i64   │\n",
      "╞═════════════╪════════════╪════════════╪════════════╪═══╪════════════╪════════════╪═══════╪═══════╡\n",
      "│ Argentina   ┆ 42         ┆ 166        ┆ 153        ┆ … ┆ null       ┆ null       ┆ null  ┆ null  │\n",
      "│ Bahamas     ┆ 1          ┆ 4          ┆ 9          ┆ … ┆ null       ┆ null       ┆ null  ┆ null  │\n",
      "│ Barbados    ┆ 0          ┆ 26         ┆ 0          ┆ … ┆ null       ┆ null       ┆ null  ┆ null  │\n",
      "│ Belize      ┆ 0          ┆ 299        ┆ 0          ┆ … ┆ null       ┆ null       ┆ null  ┆ null  │\n",
      "│ Bolivia     ┆ 10         ┆ 166        ┆ 155        ┆ … ┆ null       ┆ null       ┆ null  ┆ null  │\n",
      "│ …           ┆ …          ┆ …          ┆ …          ┆ … ┆ …          ┆ …          ┆ …     ┆ …     │\n",
      "│ Honduras    ┆ 10         ┆ 537        ┆ 6          ┆ … ┆ null       ┆ null       ┆ null  ┆ null  │\n",
      "│ Jamaica     ┆ 82         ┆ 33         ┆ 1          ┆ … ┆ null       ┆ null       ┆ null  ┆ null  │\n",
      "│ Colombia    ┆ 5          ┆ 11         ┆ 62         ┆ … ┆ null       ┆ null       ┆ null  ┆ null  │\n",
      "│ Cuba        ┆ 3          ┆ 10         ┆ 1          ┆ … ┆ null       ┆ null       ┆ null  ┆ null  │\n",
      "│ Mexico      ┆ 5          ┆ 73         ┆ 6          ┆ … ┆ null       ┆ null       ┆ null  ┆ null  │\n",
      "└─────────────┴────────────┴────────────┴────────────┴───┴────────────┴────────────┴───────┴───────┘\n"
     ]
    }
   ],
   "source": [
    "all_years = []\n",
    "\n",
    "for file in files:\n",
    "    base = os.path.basename(file).split('.')[0]\n",
    "    match = re.search(r\"\\d{4}\", base)\n",
    "    if not match:\n",
    "        print(f\"Skipping file (no year found): {file}\")\n",
    "        continue\n",
    "    year = int(match.group())\n",
    "\n",
    "    #load file\n",
    "    df = pl.read_csv(file, separator=',', has_header=True, ignore_errors=True)\n",
    "    #add the year column\n",
    "    df = df.with_columns(pl.lit(year).alias('year'))\n",
    "    #normalizing dash\n",
    "    df = df.rename({c: c.replace(\"–\", \"-\")for c in df.columns})\n",
    "\n",
    "    rename_map = {\n",
    "        \"Individual - G\": \"individual_male\",\n",
    "        \"Individual - F\": \"individual_female\",\n",
    "        \"Project - G\": \"project_male\",\n",
    "        \"Project - F\": \"project_female\",\n",
    "        \"Total - G\": \"total_male\",\n",
    "        \"Total - F\": \"total_female\",\n",
    "        \"Grand Total\": \"grand_total\"\n",
    "    }\n",
    "    df = df.rename(rename_map, strict=False)\n",
    "    df = df.filter(~pl.col(\"Country\").str.contains(\"Latin America|Total\"))\n",
    "\n",
    "    for col in df.columns:\n",
    "        if col not in [\"Country\", \"year\"]:\n",
    "            df = df.with_columns(\n",
    "                pl.col(col).cast(pl.Utf8).str.replace_all(\",\", \"\").cast(pl.Int64, strict=False)\n",
    "            )\n",
    "\n",
    "\n",
    "    #append\n",
    "    all_years.append(df)\n",
    "\n",
    "#merge all\n",
    "daad_clean = pl.concat(all_years, how='diagonal_relaxed')\n",
    "print('Final Shap:', daad_clean.shape)\n",
    "print(daad_clean.head(20))\n",
    "\n",
    "\n",
    "\n",
    "\n",
    "\n",
    "\n",
    "    \n",
    "    "
   ]
  },
  {
   "cell_type": "code",
   "execution_count": 672,
   "id": "aa73f452",
   "metadata": {},
   "outputs": [
    {
     "name": "stdout",
     "output_type": "stream",
     "text": [
      "['/Users/jhenifheralmeida/DA BOOTCAMP/FINAL PROJECT/DAAD/DAAD_CSV/2020.csv', '/Users/jhenifheralmeida/DA BOOTCAMP/FINAL PROJECT/DAAD/DAAD_CSV/2021.csv', '/Users/jhenifheralmeida/DA BOOTCAMP/FINAL PROJECT/DAAD/DAAD_CSV/2023.csv', '/Users/jhenifheralmeida/DA BOOTCAMP/FINAL PROJECT/DAAD/DAAD_CSV/2022.csv', '/Users/jhenifheralmeida/DA BOOTCAMP/FINAL PROJECT/DAAD/DAAD_CSV/2019.csv', '/Users/jhenifheralmeida/DA BOOTCAMP/FINAL PROJECT/DAAD/DAAD_CSV/2018.csv', '/Users/jhenifheralmeida/DA BOOTCAMP/FINAL PROJECT/DAAD/DAAD_CSV/2015.csv', '/Users/jhenifheralmeida/DA BOOTCAMP/FINAL PROJECT/DAAD/DAAD_CSV/2014.csv', '/Users/jhenifheralmeida/DA BOOTCAMP/FINAL PROJECT/DAAD/DAAD_CSV/2016.csv', '/Users/jhenifheralmeida/DA BOOTCAMP/FINAL PROJECT/DAAD/DAAD_CSV/2017.csv', '/Users/jhenifheralmeida/DA BOOTCAMP/FINAL PROJECT/DAAD/DAAD_CSV/2013.csv']\n"
     ]
    }
   ],
   "source": [
    "print(files)"
   ]
  },
  {
   "cell_type": "code",
   "execution_count": 735,
   "id": "4db9b29f",
   "metadata": {},
   "outputs": [
    {
     "name": "stdout",
     "output_type": "stream",
     "text": [
      "Final Shape: (285, 9)\n",
      "shape: (20, 9)\n",
      "┌───────────┬────────────┬────────────┬────────────┬───┬────────────┬───────────┬───────────┬──────┐\n",
      "│ Country   ┆ individual ┆ individual ┆ project_ma ┆ … ┆ total_male ┆ total_fem ┆ grand_tot ┆ year │\n",
      "│ ---       ┆ _male      ┆ _female    ┆ le         ┆   ┆ ---        ┆ ale       ┆ al        ┆ ---  │\n",
      "│ str       ┆ ---        ┆ ---        ┆ ---        ┆   ┆ i64        ┆ ---       ┆ ---       ┆ i32  │\n",
      "│           ┆ i64        ┆ i64        ┆ i64        ┆   ┆            ┆ i64       ┆ i64       ┆      │\n",
      "╞═══════════╪════════════╪════════════╪════════════╪═══╪════════════╪═══════════╪═══════════╪══════╡\n",
      "│ Argentina ┆ 42         ┆ 166        ┆ 153        ┆ … ┆ 195        ┆ 428       ┆ 623       ┆ 2020 │\n",
      "│ Bahamas   ┆ 1          ┆ 4          ┆ 9          ┆ … ┆ 10         ┆ 5         ┆ 15        ┆ 2020 │\n",
      "│ Barbados  ┆ 0          ┆ 26         ┆ 0          ┆ … ┆ 0          ┆ 27        ┆ 27        ┆ 2020 │\n",
      "│ Belize    ┆ 0          ┆ 299        ┆ 0          ┆ … ┆ 0          ┆ 301       ┆ 301       ┆ 2020 │\n",
      "│ Bolivia   ┆ 10         ┆ 166        ┆ 155        ┆ … ┆ 165        ┆ 223       ┆ 388       ┆ 2020 │\n",
      "│ …         ┆ …          ┆ …          ┆ …          ┆ … ┆ …          ┆ …         ┆ …         ┆ …    │\n",
      "│ Honduras  ┆ 10         ┆ 537        ┆ 6          ┆ … ┆ 16         ┆ 570       ┆ 586       ┆ 2020 │\n",
      "│ Jamaica   ┆ 82         ┆ 33         ┆ 1          ┆ … ┆ 83         ┆ 44        ┆ 127       ┆ 2020 │\n",
      "│ Colombia  ┆ 5          ┆ 11         ┆ 62         ┆ … ┆ 67         ┆ 21        ┆ 88        ┆ 2020 │\n",
      "│ Cuba      ┆ 3          ┆ 10         ┆ 1          ┆ … ┆ 4          ┆ 83        ┆ 87        ┆ 2020 │\n",
      "│ Mexico    ┆ 5          ┆ 73         ┆ 6          ┆ … ┆ 11         ┆ 421       ┆ 432       ┆ 2020 │\n",
      "└───────────┴────────────┴────────────┴────────────┴───┴────────────┴───────────┴───────────┴──────┘\n"
     ]
    }
   ],
   "source": [
    "import polars as pl\n",
    "import glob, os, re\n",
    "\n",
    "files = glob.glob(\"/Users/jhenifheralmeida/DA BOOTCAMP/FINAL PROJECT/DAAD/DAAD_CSV/*.csv\")\n",
    "\n",
    "all_years = []\n",
    "\n",
    "# Final consistent schema\n",
    "target_cols = [\n",
    "    \"Country\",\n",
    "    \"individual_male\",\n",
    "    \"individual_female\",\n",
    "    \"project_male\",\n",
    "    \"project_female\",\n",
    "    \"total_male\",\n",
    "    \"total_female\",\n",
    "    \"grand_total\",\n",
    "    \"year\"\n",
    "]\n",
    "\n",
    "for file in files:\n",
    "    # extract year from filename\n",
    "    year = int(re.search(r\"\\d{4}\", os.path.basename(file)).group())\n",
    "\n",
    "    # read file\n",
    "    df = pl.read_csv(file, separator=\",\", has_header=True, ignore_errors=True)\n",
    "\n",
    "    # normalize dash\n",
    "    df = df.rename({c: c.replace(\"–\", \"-\") for c in df.columns})\n",
    "\n",
    "    # rename columns consistently (handle different year schemas)\n",
    "    df = df.rename({\n",
    "        \"Individual - G\": \"individual_male\",\n",
    "        \"Individual - F\": \"individual_female\",\n",
    "        \"Project - G\": \"project_male\",\n",
    "        \"Project - F\": \"project_female\",\n",
    "        \"Total - G\": \"total_male\",\n",
    "        \"Total - F\": \"total_female\",\n",
    "        \"Grand Total\": \"grand_total\",\n",
    "        \"Grand Total (A+D)\": \"grand_total\",\n",
    "        \"Grand Total (G+F)\": \"grand_total\"\n",
    "    }, strict=False)\n",
    "\n",
    "    # add year\n",
    "    df = df.with_columns(pl.lit(year).alias(\"year\"))\n",
    "\n",
    "    # enforce schema (fill missing cols with nulls)\n",
    "    for col in target_cols:\n",
    "        if col not in df.columns:\n",
    "            df = df.with_columns(pl.lit(None).alias(col))\n",
    "\n",
    "    # keep only needed cols\n",
    "    df = df.select(target_cols)\n",
    "\n",
    "    # clean commas and cast to int (skip Country + year)\n",
    "    for col in target_cols:\n",
    "        if col not in [\"Country\", \"year\"]:\n",
    "        # only clean if column is String\n",
    "            if df.schema[col] == pl.Utf8:\n",
    "               df = df.with_columns(\n",
    "                    pl.col(col)\n",
    "                    .str.replace_all(\",\", \"\")\n",
    "                    .cast(pl.Int64, strict=False)\n",
    "                )\n",
    "\n",
    "\n",
    "    all_years.append(df)\n",
    "\n",
    "# merge everything\n",
    "daad_clean = pl.concat(all_years, how=\"diagonal_relaxed\")\n",
    "\n",
    "print(\"Final Shape:\", daad_clean.shape)\n",
    "print(daad_clean.head(20))\n"
   ]
  },
  {
   "cell_type": "code",
   "execution_count": 736,
   "id": "e995e968",
   "metadata": {},
   "outputs": [
    {
     "name": "stdout",
     "output_type": "stream",
     "text": [
      "shape: (11, 1)\n",
      "┌──────┐\n",
      "│ year │\n",
      "│ ---  │\n",
      "│ i32  │\n",
      "╞══════╡\n",
      "│ 2013 │\n",
      "│ 2014 │\n",
      "│ 2015 │\n",
      "│ 2016 │\n",
      "│ 2017 │\n",
      "│ …    │\n",
      "│ 2019 │\n",
      "│ 2020 │\n",
      "│ 2021 │\n",
      "│ 2022 │\n",
      "│ 2023 │\n",
      "└──────┘\n"
     ]
    }
   ],
   "source": [
    "print(daad_clean.select(\"year\").unique().sort(\"year\"))\n"
   ]
  }
 ],
 "metadata": {
  "kernelspec": {
   "display_name": "base",
   "language": "python",
   "name": "python3"
  },
  "language_info": {
   "codemirror_mode": {
    "name": "ipython",
    "version": 3
   },
   "file_extension": ".py",
   "mimetype": "text/x-python",
   "name": "python",
   "nbconvert_exporter": "python",
   "pygments_lexer": "ipython3",
   "version": "3.12.7"
  }
 },
 "nbformat": 4,
 "nbformat_minor": 5
}
